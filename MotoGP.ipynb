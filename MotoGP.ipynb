{
 "cells": [
  {
   "cell_type": "code",
   "execution_count": 1,
   "id": "9d54f0bc",
   "metadata": {},
   "outputs": [],
   "source": [
    "import numpy as np\n",
    "import pandas as pd\n",
    "import matplotlib.pyplot as plt\n",
    "import seaborn as sns"
   ]
  },
  {
   "cell_type": "code",
   "execution_count": null,
   "id": "b69ccfea",
   "metadata": {},
   "outputs": [],
   "source": []
  },
  {
   "cell_type": "code",
   "execution_count": 2,
   "id": "d524c127",
   "metadata": {},
   "outputs": [],
   "source": [
    "data=pd.read_csv('/home/amal/MotoGp/Dataset/constructure-world-championship.csv')"
   ]
  },
  {
   "cell_type": "code",
   "execution_count": 3,
   "id": "4b4972ea",
   "metadata": {},
   "outputs": [
    {
     "data": {
      "text/html": [
       "<div>\n",
       "<style scoped>\n",
       "    .dataframe tbody tr th:only-of-type {\n",
       "        vertical-align: middle;\n",
       "    }\n",
       "\n",
       "    .dataframe tbody tr th {\n",
       "        vertical-align: top;\n",
       "    }\n",
       "\n",
       "    .dataframe thead th {\n",
       "        text-align: right;\n",
       "    }\n",
       "</style>\n",
       "<table border=\"1\" class=\"dataframe\">\n",
       "  <thead>\n",
       "    <tr style=\"text-align: right;\">\n",
       "      <th></th>\n",
       "      <th>Season</th>\n",
       "      <th>Constructor</th>\n",
       "      <th>Class</th>\n",
       "    </tr>\n",
       "  </thead>\n",
       "  <tbody>\n",
       "    <tr>\n",
       "      <th>0</th>\n",
       "      <td>2021</td>\n",
       "      <td>Yamaha</td>\n",
       "      <td>MotoGP™</td>\n",
       "    </tr>\n",
       "    <tr>\n",
       "      <th>1</th>\n",
       "      <td>2021</td>\n",
       "      <td>Kalex</td>\n",
       "      <td>Moto2™</td>\n",
       "    </tr>\n",
       "    <tr>\n",
       "      <th>2</th>\n",
       "      <td>2021</td>\n",
       "      <td>KTM</td>\n",
       "      <td>Moto3™</td>\n",
       "    </tr>\n",
       "    <tr>\n",
       "      <th>3</th>\n",
       "      <td>2021</td>\n",
       "      <td>Energica</td>\n",
       "      <td>MotoE™</td>\n",
       "    </tr>\n",
       "    <tr>\n",
       "      <th>4</th>\n",
       "      <td>2020</td>\n",
       "      <td>Suzuki</td>\n",
       "      <td>MotoGP™</td>\n",
       "    </tr>\n",
       "  </tbody>\n",
       "</table>\n",
       "</div>"
      ],
      "text/plain": [
       "   Season Constructor    Class\n",
       "0    2021      Yamaha  MotoGP™\n",
       "1    2021       Kalex   Moto2™\n",
       "2    2021         KTM   Moto3™\n",
       "3    2021    Energica   MotoE™\n",
       "4    2020      Suzuki  MotoGP™"
      ]
     },
     "execution_count": 3,
     "metadata": {},
     "output_type": "execute_result"
    }
   ],
   "source": [
    "data.head()"
   ]
  },
  {
   "cell_type": "code",
   "execution_count": 4,
   "id": "acc26c45",
   "metadata": {},
   "outputs": [
    {
     "name": "stdout",
     "output_type": "stream",
     "text": [
      "<class 'pandas.core.frame.DataFrame'>\n",
      "RangeIndex: 284 entries, 0 to 283\n",
      "Data columns (total 3 columns):\n",
      " #   Column       Non-Null Count  Dtype \n",
      "---  ------       --------------  ----- \n",
      " 0   Season       284 non-null    int64 \n",
      " 1   Constructor  284 non-null    object\n",
      " 2   Class        284 non-null    object\n",
      "dtypes: int64(1), object(2)\n",
      "memory usage: 6.8+ KB\n"
     ]
    }
   ],
   "source": [
    "data.info()"
   ]
  },
  {
   "cell_type": "code",
   "execution_count": 5,
   "id": "79dd824f",
   "metadata": {},
   "outputs": [
    {
     "data": {
      "image/png": "[encoded data removed]",
      "text/plain": [
       "<Figure size 720x360 with 1 Axes>"
      ]
     },
     "metadata": {
      "needs_background": "light"
     },
     "output_type": "display_data"
    }
   ],
   "source": [
    "class_count=data['Class'].value_counts()\n",
    "plt.figure(figsize=(10,5))\n",
    "sns.barplot(x=class_count.index,y=class_count.values[:20],alpha=0.8)\n",
    "plt.title('calculating the number of times each lesson was offered')\n",
    "plt.ylabel(\"class\")\n",
    "plt.show()"
   ]
  },
  {
   "cell_type": "code",
   "execution_count": 17,
   "id": "fee3a310",
   "metadata": {},
   "outputs": [
    {
     "name": "stdout",
     "output_type": "stream",
     "text": [
      "Honda                65\n",
      "Yamaha               38\n",
      "MV Agusta            35\n",
      "Aprilia              18\n",
      "Suzuki               16\n",
      "Derbi                11\n",
      "Kalex                10\n",
      "Kawasaki              9\n",
      "Moto Guzzi            8\n",
      "Gilera                8\n",
      "Garelli               6\n",
      "Kreidler              6\n",
      "NSU                   5\n",
      "KTM                   5\n",
      "Mondial               5\n",
      "Harley Davidson       4\n",
      "Morbidelli            4\n",
      "Bultaco               3\n",
      "Norton                3\n",
      "Benelli               3\n",
      "Energica              3\n",
      "Krauser               2\n",
      "Velocette             2\n",
      "Minarelli             2\n",
      "MBA                   2\n",
      "Van Veen-Kreidler     1\n",
      "JJ Cobas              1\n",
      "Ducati                1\n",
      "Kreidler Van Veen     1\n",
      "Bimota-Yamaha         1\n",
      "Motul Bultaco         1\n",
      "Suter                 1\n",
      "Moriwaki              1\n",
      "Zundapp               1\n",
      "Chevallier            1\n",
      "AJS                   1\n",
      "Name: Constructor, dtype: int64 \n",
      "Total is 36\n"
     ]
    }
   ],
   "source": [
    "# total constructors\n",
    "total_contructors=data['Constructor'].value_counts()\n",
    "print(total_contructors,\"\\nTotal is\",len(total_contructors))\n",
    "\n",
    "\n",
    "        "
   ]
  },
  {
   "cell_type": "markdown",
   "id": "81c9e1b8",
   "metadata": {},
   "source": [
    "Japan's Honda and Yamaha are the top two manufacturers, and Italy's MV Augusta is third."
   ]
  },
  {
   "cell_type": "code",
   "execution_count": null,
   "id": "8532e03f",
   "metadata": {},
   "outputs": [],
   "source": [
    "italian = ['Energica', 'Aprilia', 'Derbi', 'Gilera', 'Ducati', \n",
    "           'Garelli', 'Minarelli', 'MBA', 'Bimota-Yamaha', 'Morbidelli', \n",
    "           'MV Agusta', 'Benelli', 'Mondial', 'Moto Guzzi']\n",
    "\n",
    "japanese = ['Yamaha', 'Suzuki', 'Honda', 'Moriwaki', 'Kawasaki']\n",
    "\n",
    "german = ['Kalex', 'Krauser', 'Zundapp', 'Kreidler']"
   ]
  },
  {
   "cell_type": "code",
   "execution_count": null,
   "id": "adce058a",
   "metadata": {},
   "outputs": [],
   "source": [
    "nation = []\n",
    "for i, row in constructors.iterrows():\n",
    "    if row[\"Constructor\"] in italian:\n",
    "        nation.append(\"Italian\")\n",
    "    elif row[\"Constructor\"] in japanese:\n",
    "        nation.append(\"Japanese\")\n",
    "    elif row[\"Constructor\"] in german:\n",
    "        nation.append(\"German\")\n",
    "    else:\n",
    "        nation.append(\"Other\")\n",
    "\n",
    "constructors[\"Nation\"] = nation"
   ]
  },
  {
   "cell_type": "code",
   "execution_count": null,
   "id": "5a84d054",
   "metadata": {},
   "outputs": [],
   "source": [
    "nation_wins = constructors[\"Nation\"].value_counts()\n",
    "\n",
    "nation_wins.plot(kind='bar', rot = 1,\n",
    "                xlabel = \"Country\", ylabel = \"Number of wins\",\n",
    "                title = \"Number of championship wins by country\")"
   ]
  },
  {
   "cell_type": "code",
   "execution_count": null,
   "id": "98c48dc2",
   "metadata": {},
   "outputs": [],
   "source": [
    "nation_wins"
   ]
  }
 ],
 "metadata": {
  "kernelspec": {
   "display_name": "Python 3 (ipykernel)",
   "language": "python",
   "name": "python3"
  },
  "language_info": {
   "codemirror_mode": {
    "name": "ipython",
    "version": 3
   },
   "file_extension": ".py",
   "mimetype": "text/x-python",
   "name": "python",
   "nbconvert_exporter": "python",
   "pygments_lexer": "ipython3",
   "version": "3.9.12"
  }
 },
 "nbformat": 4,
 "nbformat_minor": 5
}
