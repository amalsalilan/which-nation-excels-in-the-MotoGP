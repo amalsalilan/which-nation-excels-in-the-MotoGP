{
 "cells": [
  {
   "cell_type": "code",
   "execution_count": 1,
   "id": "9d54f0bc",
   "metadata": {},
   "outputs": [],
   "source": [
    "import numpy as np\n",
    "import pandas as pd\n",
    "import matplotlib.pyplot as plt\n",
    "import seaborn as sns"
   ]
  },
  {
   "cell_type": "code",
   "execution_count": 2,
   "id": "d524c127",
   "metadata": {},
   "outputs": [],
   "source": [
    "data=pd.read_csv('/home/amal/Drive A/ds/project_notebook/MotoGP/which-nation-excels-in-the-MotoGP/Dataset/constructure-world-championship.csv')"
   ]
  },
  {
   "cell_type": "code",
   "execution_count": 3,
   "id": "4b4972ea",
   "metadata": {},
   "outputs": [
    {
     "data": {
      "text/html": [
       "<div>\n",
       "<style scoped>\n",
       "    .dataframe tbody tr th:only-of-type {\n",
       "        vertical-align: middle;\n",
       "    }\n",
       "\n",
       "    .dataframe tbody tr th {\n",
       "        vertical-align: top;\n",
       "    }\n",
       "\n",
       "    .dataframe thead th {\n",
       "        text-align: right;\n",
       "    }\n",
       "</style>\n",
       "<table border=\"1\" class=\"dataframe\">\n",
       "  <thead>\n",
       "    <tr style=\"text-align: right;\">\n",
       "      <th></th>\n",
       "      <th>Season</th>\n",
       "      <th>Constructor</th>\n",
       "      <th>Class</th>\n",
       "    </tr>\n",
       "  </thead>\n",
       "  <tbody>\n",
       "    <tr>\n",
       "      <th>0</th>\n",
       "      <td>2021</td>\n",
       "      <td>Yamaha</td>\n",
       "      <td>MotoGP™</td>\n",
       "    </tr>\n",
       "    <tr>\n",
       "      <th>1</th>\n",
       "      <td>2021</td>\n",
       "      <td>Kalex</td>\n",
       "      <td>Moto2™</td>\n",
       "    </tr>\n",
       "    <tr>\n",
       "      <th>2</th>\n",
       "      <td>2021</td>\n",
       "      <td>KTM</td>\n",
       "      <td>Moto3™</td>\n",
       "    </tr>\n",
       "    <tr>\n",
       "      <th>3</th>\n",
       "      <td>2021</td>\n",
       "      <td>Energica</td>\n",
       "      <td>MotoE™</td>\n",
       "    </tr>\n",
       "    <tr>\n",
       "      <th>4</th>\n",
       "      <td>2020</td>\n",
       "      <td>Suzuki</td>\n",
       "      <td>MotoGP™</td>\n",
       "    </tr>\n",
       "  </tbody>\n",
       "</table>\n",
       "</div>"
      ],
      "text/plain": [
       "   Season Constructor    Class\n",
       "0    2021      Yamaha  MotoGP™\n",
       "1    2021       Kalex   Moto2™\n",
       "2    2021         KTM   Moto3™\n",
       "3    2021    Energica   MotoE™\n",
       "4    2020      Suzuki  MotoGP™"
      ]
     },
     "execution_count": 3,
     "metadata": {},
     "output_type": "execute_result"
    }
   ],
   "source": [
    "data.head(5)"
   ]
  },
  {
   "cell_type": "code",
   "execution_count": 4,
   "id": "acc26c45",
   "metadata": {},
   "outputs": [
    {
     "name": "stdout",
     "output_type": "stream",
     "text": [
      "<class 'pandas.core.frame.DataFrame'>\n",
      "RangeIndex: 284 entries, 0 to 283\n",
      "Data columns (total 3 columns):\n",
      " #   Column       Non-Null Count  Dtype \n",
      "---  ------       --------------  ----- \n",
      " 0   Season       284 non-null    int64 \n",
      " 1   Constructor  284 non-null    object\n",
      " 2   Class        284 non-null    object\n",
      "dtypes: int64(1), object(2)\n",
      "memory usage: 6.8+ KB\n"
     ]
    }
   ],
   "source": [
    "data.info()"
   ]
  },
  {
   "cell_type": "code",
   "execution_count": 5,
   "id": "79dd824f",
   "metadata": {},
   "outputs": [
    {
     "data": {
      "image/png": "[encoded data removed]",
      "text/plain": [
       "<Figure size 720x360 with 1 Axes>"
      ]
     },
     "metadata": {
      "needs_background": "light"
     },
     "output_type": "display_data"
    }
   ],
   "source": [
    "class_count=data['Class'].value_counts()\n",
    "plt.figure(figsize=(10,5))\n",
    "sns.barplot(x=class_count.index,y=class_count.values[:20],alpha=0.8)\n",
    "plt.title('calculating the number of times each lesson was offered')\n",
    "plt.ylabel(\"class\")\n",
    "plt.show()"
   ]
  },
  {
   "cell_type": "markdown",
   "id": "d810d768",
   "metadata": {},
   "source": [
    "# total constructors"
   ]
  },
  {
   "cell_type": "code",
   "execution_count": 6,
   "id": "fee3a310",
   "metadata": {},
   "outputs": [
    {
     "name": "stdout",
     "output_type": "stream",
     "text": [
      "Honda                65\n",
      "Yamaha               38\n",
      "MV Agusta            35\n",
      "Aprilia              18\n",
      "Suzuki               16\n",
      "Derbi                11\n",
      "Kalex                10\n",
      "Kawasaki              9\n",
      "Moto Guzzi            8\n",
      "Gilera                8\n",
      "Garelli               6\n",
      "Kreidler              6\n",
      "NSU                   5\n",
      "KTM                   5\n",
      "Mondial               5\n",
      "Harley Davidson       4\n",
      "Morbidelli            4\n",
      "Bultaco               3\n",
      "Norton                3\n",
      "Benelli               3\n",
      "Energica              3\n",
      "Krauser               2\n",
      "Velocette             2\n",
      "Minarelli             2\n",
      "MBA                   2\n",
      "Van Veen-Kreidler     1\n",
      "JJ Cobas              1\n",
      "Ducati                1\n",
      "Kreidler Van Veen     1\n",
      "Bimota-Yamaha         1\n",
      "Motul Bultaco         1\n",
      "Suter                 1\n",
      "Moriwaki              1\n",
      "Zundapp               1\n",
      "Chevallier            1\n",
      "AJS                   1\n",
      "Name: Constructor, dtype: int64 \n",
      "Total is 36\n"
     ]
    }
   ],
   "source": [
    "# total constructors\n",
    "constructors=data['Constructor'].value_counts()\n",
    "print(constructors,\"\\nTotal is\",len(constructors))"
   ]
  },
  {
   "cell_type": "markdown",
   "id": "4e808a32",
   "metadata": {},
   "source": [
    "# Japan's Honda and Yamaha are the top two manufacturers, and Italy's MV Augusta is third."
   ]
  },
  {
   "cell_type": "markdown",
   "id": "e261c228",
   "metadata": {},
   "source": [
    "### The amount of constructor championships each nation has won will now be determined."
   ]
  },
  {
   "cell_type": "code",
   "execution_count": 7,
   "id": "b0bb8f2c",
   "metadata": {},
   "outputs": [],
   "source": [
    "italian = ['Energica', 'Aprilia', 'Derbi', 'Gilera', 'Ducati', \n",
    "           'Garelli', 'Minarelli', 'MBA', 'Bimota-Yamaha', 'Morbidelli', \n",
    "           'MV Agusta', 'Benelli', 'Mondial', 'Moto Guzzi']\n",
    "\n",
    "japanese = ['Yamaha', 'Suzuki', 'Honda', 'Moriwaki', 'Kawasaki']\n",
    "\n",
    "german = ['Kalex', 'Krauser', 'Zundapp', 'Kreidler']"
   ]
  },
  {
   "cell_type": "code",
   "execution_count": 8,
   "id": "40a2177d",
   "metadata": {},
   "outputs": [],
   "source": [
    "nation = []\n",
    "for i, row in data.iterrows():\n",
    "    if row[\"Constructor\"] in italian:\n",
    "        nation.append(\"Italian\")\n",
    "    elif row[\"Constructor\"] in japanese:\n",
    "        nation.append(\"Japanese\")\n",
    "    elif row[\"Constructor\"] in german:\n",
    "        nation.append(\"German\")\n",
    "    else:\n",
    "        nation.append(\"Other\")\n",
    "\n",
    "data[\"Nation\"] = nation"
   ]
  },
  {
   "cell_type": "code",
   "execution_count": 9,
   "id": "2f35d099",
   "metadata": {},
   "outputs": [
    {
     "data": {
      "text/plain": [
       "<AxesSubplot:title={'center':'Number of championship wins by country'}, xlabel='Country', ylabel='Number of wins'>"
      ]
     },
     "execution_count": 9,
     "metadata": {},
     "output_type": "execute_result"
    },
    {
     "data": {
      "image/png": "[encoded data removed]",
      "text/plain": [
       "<Figure size 432x288 with 1 Axes>"
      ]
     },
     "metadata": {
      "needs_background": "light"
     },
     "output_type": "display_data"
    }
   ],
   "source": [
    "nation_wins = data[\"Nation\"].value_counts()\n",
    "\n",
    "nation_wins.plot(kind='bar', rot = 1,\n",
    "                xlabel = \"Country\", ylabel = \"Number of wins\",\n",
    "                title = \"Number of championship wins by country\")"
   ]
  },
  {
   "cell_type": "code",
   "execution_count": 10,
   "id": "519fb3a1",
   "metadata": {},
   "outputs": [
    {
     "name": "stdout",
     "output_type": "stream",
     "text": [
      "Japanese    129\n",
      "Italian     107\n",
      "Other        29\n",
      "German       19\n",
      "Name: Nation, dtype: int64\n"
     ]
    }
   ],
   "source": [
    "print(nation_wins)"
   ]
  },
  {
   "cell_type": "markdown",
   "id": "8865a2b2",
   "metadata": {},
   "source": [
    "# In the constructor championships, the Japanese came out on top, followed by the Italians and the Germans."
   ]
  },
  {
   "cell_type": "markdown",
   "id": "107af463",
   "metadata": {},
   "source": [
    "# See how many wins each nation has received in various categories."
   ]
  },
  {
   "cell_type": "code",
   "execution_count": 11,
   "id": "47fd36ec",
   "metadata": {},
   "outputs": [],
   "source": [
    "df_by_class=data.groupby(by=['Class','Nation'])['Season'].count()\n"
   ]
  },
  {
   "cell_type": "code",
   "execution_count": 12,
   "id": "35f224fa",
   "metadata": {},
   "outputs": [],
   "source": [
    "n_editon=df_by_class.unstack().sum(axis=1)"
   ]
  },
  {
   "cell_type": "code",
   "execution_count": 13,
   "id": "5e8906fd",
   "metadata": {},
   "outputs": [
    {
     "data": {
      "text/plain": [
       "Class    Nation  \n",
       "125cc    Italian     0.603175\n",
       "         Japanese    0.349206\n",
       "         Other       0.047619\n",
       "250cc    Italian     0.344262\n",
       "         Japanese    0.540984\n",
       "         Other       0.114754\n",
       "350cc    Italian     0.470588\n",
       "         Japanese    0.382353\n",
       "         Other       0.147059\n",
       "50cc     German      0.318182\n",
       "         Italian     0.090909\n",
       "         Japanese    0.318182\n",
       "         Other       0.272727\n",
       "80cc     German      0.333333\n",
       "         Italian     0.666667\n",
       "Moto2™   German      0.833333\n",
       "         Japanese    0.083333\n",
       "         Other       0.083333\n",
       "Moto3™   Japanese    0.500000\n",
       "         Other       0.500000\n",
       "MotoE™   Italian     1.000000\n",
       "MotoGP™  Italian     0.315068\n",
       "         Japanese    0.657534\n",
       "         Other       0.027397\n",
       "dtype: float64"
      ]
     },
     "execution_count": 13,
     "metadata": {},
     "output_type": "execute_result"
    }
   ],
   "source": [
    "df_by_class_pct=df_by_class/n_editon\n",
    "df_by_class_pct"
   ]
  },
  {
   "cell_type": "markdown",
   "id": "e5aef4b2",
   "metadata": {},
   "source": [
    "# Let's now plot the number of championships each country won in each category."
   ]
  },
  {
   "cell_type": "code",
   "execution_count": 14,
   "id": "1281772e",
   "metadata": {},
   "outputs": [
    {
     "data": {
      "text/plain": [
       "<AxesSubplot:title={'center':'Number of wins in each category by each nations'}, xlabel='Class', ylabel='Number  of Championships'>"
      ]
     },
     "execution_count": 14,
     "metadata": {},
     "output_type": "execute_result"
    },
    {
     "data": {
      "image/png": "[encoded data removed]",
      "text/plain": [
       "<Figure size 1080x576 with 1 Axes>"
      ]
     },
     "metadata": {
      "needs_background": "light"
     },
     "output_type": "display_data"
    }
   ],
   "source": [
    "\n",
    "df_by_class_pct.unstack().plot(kind=\"bar\",legend=True,figsize=(15,8),\n",
    "                              rot=1,ylabel=\"Number  of Championships\",\n",
    "                              title=\"Number of wins in each category by each nations\")"
   ]
  },
  {
   "cell_type": "markdown",
   "id": "3e4b14ad",
   "metadata": {},
   "source": [
    "# The most prosperous manufacturers in the 250cc and MotoGP categories are Japanese ones. Japanese manufacturers appear to be particularly dominating in the MotoGP class in particular (having won just over 65% of all championships)."
   ]
  },
  {
   "cell_type": "markdown",
   "id": "5dab5d79",
   "metadata": {},
   "source": [
    "# German manufacturers are exceptionally successful in the Moto2 division (83% of all editions were won by them), but are not really significant in other classes, which is another intriguing fact."
   ]
  },
  {
   "cell_type": "markdown",
   "id": "f38e3d7c",
   "metadata": {},
   "source": [
    "# Counting the number of titles each country has claimed in the various divisions"
   ]
  },
  {
   "cell_type": "code",
   "execution_count": 15,
   "id": "8d1485f4",
   "metadata": {},
   "outputs": [
    {
     "data": {
      "text/plain": [
       "Nation    Class  \n",
       "German    50cc        7\n",
       "          80cc        2\n",
       "          Moto2™     10\n",
       "Italian   125cc      38\n",
       "          250cc      21\n",
       "          350cc      16\n",
       "          50cc        2\n",
       "          80cc        4\n",
       "          MotoE™      3\n",
       "          MotoGP™    23\n",
       "Japanese  125cc      22\n",
       "          250cc      33\n",
       "          350cc      13\n",
       "          50cc        7\n",
       "          Moto2™      1\n",
       "          Moto3™      5\n",
       "          MotoGP™    48\n",
       "Other     125cc       3\n",
       "          250cc       7\n",
       "          350cc       5\n",
       "          50cc        6\n",
       "          Moto2™      1\n",
       "          Moto3™      5\n",
       "          MotoGP™     2\n",
       "Name: Season, dtype: int64"
      ]
     },
     "execution_count": 15,
     "metadata": {},
     "output_type": "execute_result"
    }
   ],
   "source": [
    "df_by_nations=data.groupby(['Nation','Class'])['Season'].count()\n",
    "df_by_nations"
   ]
  },
  {
   "cell_type": "markdown",
   "id": "8b07ab38",
   "metadata": {},
   "source": [
    "# converting dataframe to percentage"
   ]
  },
  {
   "cell_type": "code",
   "execution_count": 16,
   "id": "a5b2ddfd",
   "metadata": {},
   "outputs": [
    {
     "data": {
      "text/plain": [
       "Nation\n",
       "German       19.0\n",
       "Italian     107.0\n",
       "Japanese    129.0\n",
       "Other        29.0\n",
       "dtype: float64"
      ]
     },
     "execution_count": 16,
     "metadata": {},
     "output_type": "execute_result"
    }
   ],
   "source": [
    "n_wins_by_nation=df_by_nations.unstack().sum(axis=1)\n",
    "n_wins_by_nation"
   ]
  },
  {
   "cell_type": "code",
   "execution_count": 17,
   "id": "d726c5bf",
   "metadata": {},
   "outputs": [
    {
     "data": {
      "text/plain": [
       "Nation    Class  \n",
       "German    50cc       0.368421\n",
       "          80cc       0.105263\n",
       "          Moto2™     0.526316\n",
       "Italian   125cc      0.355140\n",
       "          250cc      0.196262\n",
       "          350cc      0.149533\n",
       "          50cc       0.018692\n",
       "          80cc       0.037383\n",
       "          MotoE™     0.028037\n",
       "          MotoGP™    0.214953\n",
       "Japanese  125cc      0.170543\n",
       "          250cc      0.255814\n",
       "          350cc      0.100775\n",
       "          50cc       0.054264\n",
       "          Moto2™     0.007752\n",
       "          Moto3™     0.038760\n",
       "          MotoGP™    0.372093\n",
       "Other     125cc      0.103448\n",
       "          250cc      0.241379\n",
       "          350cc      0.172414\n",
       "          50cc       0.206897\n",
       "          Moto2™     0.034483\n",
       "          Moto3™     0.172414\n",
       "          MotoGP™    0.068966\n",
       "dtype: float64"
      ]
     },
     "execution_count": 17,
     "metadata": {},
     "output_type": "execute_result"
    }
   ],
   "source": [
    "df_by_nation_pct=df_by_nations/n_wins_by_nation\n",
    "df_by_nation_pct"
   ]
  },
  {
   "cell_type": "code",
   "execution_count": 18,
   "id": "90209280",
   "metadata": {},
   "outputs": [
    {
     "data": {
      "text/plain": [
       "<AxesSubplot:title={'center':'Distribution of Championships for each nation'}, xlabel='Nation', ylabel='Number of Championship won'>"
      ]
     },
     "execution_count": 18,
     "metadata": {},
     "output_type": "execute_result"
    },
    {
     "data": {
      "image/png": "[encoded data removed]",
      "text/plain": [
       "<Figure size 1080x576 with 1 Axes>"
      ]
     },
     "metadata": {
      "needs_background": "light"
     },
     "output_type": "display_data"
    }
   ],
   "source": [
    "df_by_nation_pct.unstack().plot(kind=\"bar\",figsize=(15,8),\n",
    "                                xlabel=\"Nation\",ylabel=\"Number of Championship won\",\n",
    "                                title=\"Distribution of Championships for each nation\",\n",
    "                                rot=1)"
   ]
  },
  {
   "cell_type": "raw",
   "id": "fbb89cbf",
   "metadata": {},
   "source": [
    "\n",
    "\n",
    "Most of italy's wins come from 125cc, which helps to consolidate the previous intution that italian manufacturers were very successful in this category. MotoGP is the second category with the most wins. It's interesting to see that most of italy's wins come from the 125cc, 250cc, 350cc categories (~ 70%), which suggests that they were more successful during the 2-stroke era than the 4-stroke era. Although italian constructors have won more in 2-stroke categories than 4-stroke ones, they have won all editions of MotoE. The future of EV racing looks promising for italians.\n",
    "\n",
    "When it comes to Japan, most of their wins come from the MotoGP category, with 250cc beign second. This again confirms the previous intuition that japanese manufacturers have dominated this category.\n",
    "\n",
    "Germany's wins are concentrated in the 50cc and Moto2 category.\n"
   ]
  },
  {
   "cell_type": "raw",
   "id": "3fe277e1",
   "metadata": {},
   "source": [
    "a closer look at italys wins are distributed"
   ]
  },
  {
   "cell_type": "code",
   "execution_count": 19,
   "id": "10afb2e0",
   "metadata": {},
   "outputs": [
    {
     "name": "stdout",
     "output_type": "stream",
     "text": [
      "Category % of total wins\n",
      "125cc 36.0\n",
      "250cc 20.0\n",
      "350cc 15.0\n",
      "50cc 2.0\n",
      "80cc 4.0\n",
      "MotoE™ 3.0\n",
      "MotoGP™ 21.0\n"
     ]
    }
   ],
   "source": [
    "italian_wins=df_by_nations[3:10]\n",
    "totalWins=sum(italian_wins)\n",
    "\n",
    "print(\"Category\",\"% of total wins\")\n",
    "for key ,val in italian_wins.iteritems():\n",
    "    print(key[1],round(val/totalWins,2)*100)"
   ]
  },
  {
   "cell_type": "code",
   "execution_count": 20,
   "id": "68fe2351",
   "metadata": {},
   "outputs": [
    {
     "data": {
      "text/plain": [
       "<AxesSubplot:title={'center':'Distribution of wins of italian manufacturers'}, ylabel=' '>"
      ]
     },
     "execution_count": 20,
     "metadata": {},
     "output_type": "execute_result"
    },
    {
     "data": {
      "image/png": "[encoded data removed]",
      "text/plain": [
       "<Figure size 720x360 with 1 Axes>"
      ]
     },
     "metadata": {},
     "output_type": "display_data"
    }
   ],
   "source": [
    "labels = [\"125cc\", \"250cc\", \"350cc\", \"50cc\", \"80cc\", \"MotoE\", \"MotoGP\"]\n",
    "italian_wins.plot(kind=\"pie\",figsize=(10,5),ylabel=\" \",labels=labels, title=\"Distribution of wins of italian manufacturers\")"
   ]
  },
  {
   "cell_type": "markdown",
   "id": "3499fce3",
   "metadata": {},
   "source": [
    "# How has the performance of the nation changed throughout the years? Has it been impacted by the switch from 2-stroke to 4-stroke engines?"
   ]
  },
  {
   "cell_type": "code",
   "execution_count": 21,
   "id": "12921fc8",
   "metadata": {},
   "outputs": [
    {
     "data": {
      "text/html": [
       "<div>\n",
       "<style scoped>\n",
       "    .dataframe tbody tr th:only-of-type {\n",
       "        vertical-align: middle;\n",
       "    }\n",
       "\n",
       "    .dataframe tbody tr th {\n",
       "        vertical-align: top;\n",
       "    }\n",
       "\n",
       "    .dataframe thead th {\n",
       "        text-align: right;\n",
       "    }\n",
       "</style>\n",
       "<table border=\"1\" class=\"dataframe\">\n",
       "  <thead>\n",
       "    <tr style=\"text-align: right;\">\n",
       "      <th></th>\n",
       "      <th>Italian</th>\n",
       "      <th>Japanese</th>\n",
       "      <th>German</th>\n",
       "      <th>Other</th>\n",
       "    </tr>\n",
       "  </thead>\n",
       "  <tbody>\n",
       "    <tr>\n",
       "      <th>1949-1959</th>\n",
       "      <td>0.75</td>\n",
       "      <td>0.0</td>\n",
       "      <td>0.0</td>\n",
       "      <td>0.25</td>\n",
       "    </tr>\n",
       "    <tr>\n",
       "      <th>1960-1969</th>\n",
       "      <td>0.354167</td>\n",
       "      <td>0.645833</td>\n",
       "      <td>0.0</td>\n",
       "      <td>0.0</td>\n",
       "    </tr>\n",
       "    <tr>\n",
       "      <th>1970-1979</th>\n",
       "      <td>0.34</td>\n",
       "      <td>0.4</td>\n",
       "      <td>0.1</td>\n",
       "      <td>0.16</td>\n",
       "    </tr>\n",
       "    <tr>\n",
       "      <th>1980-1989</th>\n",
       "      <td>0.325581</td>\n",
       "      <td>0.488372</td>\n",
       "      <td>0.093023</td>\n",
       "      <td>0.093023</td>\n",
       "    </tr>\n",
       "    <tr>\n",
       "      <th>1990-1999</th>\n",
       "      <td>0.266667</td>\n",
       "      <td>0.733333</td>\n",
       "      <td>0.0</td>\n",
       "      <td>0.0</td>\n",
       "    </tr>\n",
       "    <tr>\n",
       "      <th>2000-2009</th>\n",
       "      <td>0.433333</td>\n",
       "      <td>0.566667</td>\n",
       "      <td>0.0</td>\n",
       "      <td>0.0</td>\n",
       "    </tr>\n",
       "    <tr>\n",
       "      <th>2010-2019</th>\n",
       "      <td>0.096774</td>\n",
       "      <td>0.516129</td>\n",
       "      <td>0.258065</td>\n",
       "      <td>0.129032</td>\n",
       "    </tr>\n",
       "    <tr>\n",
       "      <th>2020-Present</th>\n",
       "      <td>0.25</td>\n",
       "      <td>0.25</td>\n",
       "      <td>0.25</td>\n",
       "      <td>0.25</td>\n",
       "    </tr>\n",
       "  </tbody>\n",
       "</table>\n",
       "</div>"
      ],
      "text/plain": [
       "               Italian  Japanese    German     Other\n",
       "1949-1959         0.75       0.0       0.0      0.25\n",
       "1960-1969     0.354167  0.645833       0.0       0.0\n",
       "1970-1979         0.34       0.4       0.1      0.16\n",
       "1980-1989     0.325581  0.488372  0.093023  0.093023\n",
       "1990-1999     0.266667  0.733333       0.0       0.0\n",
       "2000-2009     0.433333  0.566667       0.0       0.0\n",
       "2010-2019     0.096774  0.516129  0.258065  0.129032\n",
       "2020-Present      0.25      0.25      0.25      0.25"
      ]
     },
     "execution_count": 21,
     "metadata": {},
     "output_type": "execute_result"
    }
   ],
   "source": [
    "decades = [\"1949-1959\", \"1960-1969\", \"1970-1979\", \"1980-1989\", \"1990-1999\", \"2000-2009\", \"2010-2019\", \"2020-Present\"]\n",
    "nations_of_interest = [\"Italian\", \"Japanese\", \"German\", \"Other\"]\n",
    "\n",
    "wins_by_decade_df = pd.DataFrame(columns = [\"Italian\", \"Japanese\", \"German\", \"Other\"], index=decades)\n",
    "\n",
    "for nation in nations_of_interest:\n",
    "    subdf = data[data[\"Nation\"] == nation]\n",
    "    decade_wins = {\"1949-1959\":0, \"1960-1969\":0, \"1970-1979\":0, \"1980-1989\":0, \"1990-1999\":0, \n",
    "                   \"2000-2009\":0, \"2010-2019\":0, \"2020-Present\":0}\n",
    "    \n",
    "    for i, row in subdf.iterrows():     \n",
    "        season = row[\"Season\"]\n",
    "        if season >= 2020:\n",
    "            decade_wins[\"2020-Present\"] += 1\n",
    "        elif 2010 <= season <= 2019:\n",
    "            decade_wins[\"2010-2019\"] += 1\n",
    "        elif 2000 <= season <= 2009:\n",
    "            decade_wins[\"2000-2009\"] += 1\n",
    "        elif 1990 <= season <= 1999:\n",
    "            decade_wins[\"1990-1999\"] += 1\n",
    "        elif 1980 <= season <= 1989:\n",
    "            decade_wins[\"1980-1989\"] += 1\n",
    "        elif 1970 <= season <= 1979:\n",
    "            decade_wins[\"1970-1979\"] += 1\n",
    "        elif 1960 <= season <= 1969:\n",
    "            decade_wins[\"1960-1969\"] += 1\n",
    "        elif 1949 <= season <= 1959:\n",
    "            decade_wins[\"1949-1959\"] += 1\n",
    "    \n",
    "    for i, row in wins_by_decade_df.iterrows():\n",
    "        wins_by_decade_df.loc[i, nation] = decade_wins[i]\n",
    "\n",
    "        \n",
    "wins_by_decade_pct_df = wins_by_decade_df.loc[:, :].div(wins_by_decade_df.sum(axis=1), axis=0)\n",
    "wins_by_decade_pct_df"
   ]
  },
  {
   "cell_type": "code",
   "execution_count": 22,
   "id": "5391117b",
   "metadata": {},
   "outputs": [
    {
     "data": {
      "text/plain": [
       "<AxesSubplot:title={'center':'% of all championships won by nation by decade'}, xlabel='Decades', ylabel='% of championships won'>"
      ]
     },
     "execution_count": 22,
     "metadata": {},
     "output_type": "execute_result"
    },
    {
     "data": {
      "image/png": "[encoded data removed]",
      "text/plain": [
       "<Figure size 432x288 with 1 Axes>"
      ]
     },
     "metadata": {
      "needs_background": "light"
     },
     "output_type": "display_data"
    }
   ],
   "source": [
    "wins_by_decade_pct_df.plot(kind=\"bar\",\n",
    "                          xlabel = \"Decades\", ylabel = \"% of championships won\",\n",
    "                          title = \"% of all championships won by nation by decade\")"
   ]
  },
  {
   "cell_type": "markdown",
   "id": "6520b9cd",
   "metadata": {},
   "source": [
    "# Italy led the industry in the 1950s, but starting in the 1960s, Japan became the most successful builder. This decade-by-decade breakdown does not imply that the winning dynamics were impacted by the change in engine type."
   ]
  },
  {
   "cell_type": "code",
   "execution_count": 23,
   "id": "5ac96aac",
   "metadata": {},
   "outputs": [],
   "source": [
    "pilot_positions=pd.read_csv('/home/amal/Downloads/Dataset/riders-finishing-positions.csv')\n",
    "pilot_info=pd.read_csv('/home/amal/Downloads/Dataset/riders-info.csv')"
   ]
  },
  {
   "cell_type": "code",
   "execution_count": 24,
   "id": "6a455c80",
   "metadata": {},
   "outputs": [
    {
     "data": {
      "text/html": [
       "<div>\n",
       "<style scoped>\n",
       "    .dataframe tbody tr th:only-of-type {\n",
       "        vertical-align: middle;\n",
       "    }\n",
       "\n",
       "    .dataframe tbody tr th {\n",
       "        vertical-align: top;\n",
       "    }\n",
       "\n",
       "    .dataframe thead th {\n",
       "        text-align: right;\n",
       "    }\n",
       "</style>\n",
       "<table border=\"1\" class=\"dataframe\">\n",
       "  <thead>\n",
       "    <tr style=\"text-align: right;\">\n",
       "      <th></th>\n",
       "      <th>Riders</th>\n",
       "      <th>Victories</th>\n",
       "      <th>2nd places</th>\n",
       "      <th>3rd places</th>\n",
       "      <th>Pole positions from '74 to 2022</th>\n",
       "      <th>Race fastest lap to 2022</th>\n",
       "      <th>World Championships</th>\n",
       "    </tr>\n",
       "  </thead>\n",
       "  <tbody>\n",
       "    <tr>\n",
       "      <th>0</th>\n",
       "      <td>AGOSTINI Giacomo</td>\n",
       "      <td>122</td>\n",
       "      <td>35.0</td>\n",
       "      <td>2.0</td>\n",
       "      <td>9.0</td>\n",
       "      <td>117.0</td>\n",
       "      <td>15.0</td>\n",
       "    </tr>\n",
       "    <tr>\n",
       "      <th>1</th>\n",
       "      <td>ROSSI Valentino</td>\n",
       "      <td>115</td>\n",
       "      <td>67.0</td>\n",
       "      <td>53.0</td>\n",
       "      <td>65.0</td>\n",
       "      <td>96.0</td>\n",
       "      <td>9.0</td>\n",
       "    </tr>\n",
       "    <tr>\n",
       "      <th>2</th>\n",
       "      <td>NIETO Angel</td>\n",
       "      <td>90</td>\n",
       "      <td>35.0</td>\n",
       "      <td>14.0</td>\n",
       "      <td>34.0</td>\n",
       "      <td>81.0</td>\n",
       "      <td>13.0</td>\n",
       "    </tr>\n",
       "    <tr>\n",
       "      <th>3</th>\n",
       "      <td>MARQUEZ Marc</td>\n",
       "      <td>85</td>\n",
       "      <td>36.0</td>\n",
       "      <td>17.0</td>\n",
       "      <td>90.0</td>\n",
       "      <td>75.0</td>\n",
       "      <td>8.0</td>\n",
       "    </tr>\n",
       "    <tr>\n",
       "      <th>4</th>\n",
       "      <td>HAILWOOD Mike</td>\n",
       "      <td>76</td>\n",
       "      <td>25.0</td>\n",
       "      <td>11.0</td>\n",
       "      <td>0.0</td>\n",
       "      <td>79.0</td>\n",
       "      <td>9.0</td>\n",
       "    </tr>\n",
       "  </tbody>\n",
       "</table>\n",
       "</div>"
      ],
      "text/plain": [
       "             Riders  Victories  2nd places  3rd places  \\\n",
       "0  AGOSTINI Giacomo        122        35.0         2.0   \n",
       "1   ROSSI Valentino        115        67.0        53.0   \n",
       "2       NIETO Angel         90        35.0        14.0   \n",
       "3      MARQUEZ Marc         85        36.0        17.0   \n",
       "4     HAILWOOD Mike         76        25.0        11.0   \n",
       "\n",
       "   Pole positions from '74 to 2022  Race fastest lap to 2022  \\\n",
       "0                              9.0                     117.0   \n",
       "1                             65.0                      96.0   \n",
       "2                             34.0                      81.0   \n",
       "3                             90.0                      75.0   \n",
       "4                              0.0                      79.0   \n",
       "\n",
       "   World Championships  \n",
       "0                 15.0  \n",
       "1                  9.0  \n",
       "2                 13.0  \n",
       "3                  8.0  \n",
       "4                  9.0  "
      ]
     },
     "execution_count": 24,
     "metadata": {},
     "output_type": "execute_result"
    }
   ],
   "source": [
    "pilot_info = pilot_info.rename(columns={'Riders All Time in All Classes': 'Riders'})\n",
    "pilot_info = pilot_info.fillna(0) # handling missing values\n",
    "pilot_info.head()"
   ]
  },
  {
   "cell_type": "code",
   "execution_count": 25,
   "id": "bee20a6d",
   "metadata": {},
   "outputs": [],
   "source": [
    "pilot_nationalities = {}\n",
    "\n",
    "for i, row in pilot_positions.iterrows():\n",
    "    if row[\"Country\"] not in pilot_nationalities.keys():\n",
    "        pilot_nationalities[row[\"Country\"]] = [row[\"Rider\"]]\n",
    "    else:\n",
    "        pilot_nationalities[row[\"Country\"]].append(row[\"Rider\"])"
   ]
  },
  {
   "cell_type": "code",
   "execution_count": 26,
   "id": "cc219d09",
   "metadata": {},
   "outputs": [
    {
     "data": {
      "text/plain": [
       "{'IT': ['Giacomo Agostini',\n",
       "  'Valentino Rossi',\n",
       "  'Max Biaggi',\n",
       "  'Carlo Ubbiali',\n",
       "  'Luca Cadalora',\n",
       "  'Loris Capirossi',\n",
       "  'Pierpaolo Bianchi',\n",
       "  'Eugenio Lazzarini',\n",
       "  'Andrea Dovizioso',\n",
       "  'Walter Villa',\n",
       "  'Marco Melandri',\n",
       "  'Fausto Gresini',\n",
       "  'Tarquinio Provini',\n",
       "  'Francesco Bagnaia',\n",
       "  'Marco Simoncelli',\n",
       "  'Andrea Iannone',\n",
       "  'Romano Fenati',\n",
       "  'Mattia Pasini',\n",
       "  'Franco Morbidelli',\n",
       "  'Ezio Gianola',\n",
       "  'Roberto Locatelli',\n",
       "  'Enea Bastianini',\n",
       "  'Loris Reggiani',\n",
       "  'Paolo Pileri',\n",
       "  'Enrico Lorenzetti',\n",
       "  'Franco Uncini',\n",
       "  'Dennis Foggia',\n",
       "  'Lucio Cecchinello',\n",
       "  'Marco Lucchinelli',\n",
       "  'Marco Bezzecchi',\n",
       "  'Renzo Pasolini',\n",
       "  'Libero Liberati',\n",
       "  'Luca Marini',\n",
       "  'Doriano Romboni',\n",
       "  'Umberto Masetti',\n",
       "  'Simone Corsi',\n",
       "  'Lorenzo Dalla Porta',\n",
       "  'Pierfrancesco Chili',\n",
       "  'Lorenzo Baldassarri',\n",
       "  'Dario Ambrosini',\n",
       "  'Matteo Ferrari',\n",
       "  'Stefano Perugini',\n",
       "  'Nello Pagani',\n",
       "  'Nello Pagani',\n",
       "  'Gilberto Parlotti',\n",
       "  'Tony Arbolino',\n",
       "  'Niccolò Antonelli',\n",
       "  'Bruno Ruffo',\n",
       "  'Roberto Rolfo',\n",
       "  'Simone Sanna',\n",
       "  'Silvio Grassetti',\n",
       "  'Gianni Leoni',\n",
       "  'Alessandro Gramigni',\n",
       "  'Graziano Rossi',\n",
       "  'Otello Buscherini',\n",
       "  'Emilio Mendogni',\n",
       "  'Alberto Pagani',\n",
       "  'Fabio Di Giannantonio',\n",
       "  'Alfredo Milani',\n",
       "  'Alberto Gandossi',\n",
       "  'Maurizio Vitali',\n",
       "  'Danilo Petrucci',\n",
       "  'Gianluigi Scalvini',\n",
       "  'Virginio Ferrari',\n",
       "  'Gianfranco Bonera',\n",
       "  'Angelo Bergamonti',\n",
       "  'Andrea Migno',\n",
       "  'Domenico Brigaglia',\n",
       "  'Guido Leoni',\n",
       "  'Paolo Casoli',\n",
       "  'Alessandro Zaccone',\n",
       "  'Remo Venturi',\n",
       "  'Andrea Ballerini',\n",
       "  'Bruno Casanova',\n",
       "  'Pier Luigi Conforti',\n",
       "  'Ivan Goi',\n",
       "  'Mario Lega',\n",
       "  'Bruno Spaggiari',\n",
       "  'Guido Sala',\n",
       "  'Michele Pirro',\n",
       "  'Fausto Ricci',\n",
       "  'Duilio Agostini',\n",
       "  'Romolo Ferri',\n",
       "  'Angelo Copeta'],\n",
       " 'ES': ['Angel Nieto',\n",
       "  'Marc Marquez',\n",
       "  'Jorge Lorenzo',\n",
       "  'Dani Pedrosa',\n",
       "  'Jorge Martinez',\n",
       "  'Maverick Viñales',\n",
       "  'Alex Criville',\n",
       "  'Ricardo Tormo',\n",
       "  'Toni Elias',\n",
       "  'Alvaro Bautista',\n",
       "  'Nicolas Terol',\n",
       "  'Pol Espargaro',\n",
       "  'Sito Pons',\n",
       "  'Alex Rins',\n",
       "  'Tito Rabat',\n",
       "  'Alex Marquez',\n",
       "  'Joan Mir',\n",
       "  'Jorge Martin',\n",
       "  'Hector Barbera',\n",
       "  'Raul Fernandez',\n",
       "  'Sete Gibernau',\n",
       "  'Luis Salom',\n",
       "  'Hector Faubel',\n",
       "  'Julian Simon',\n",
       "  'Sergio Garcia',\n",
       "  'Aron Canet',\n",
       "  'Albert Arenas',\n",
       "  'Pedro Acosta',\n",
       "  'Carlos Cardús',\n",
       "  'Fonsi Nieto',\n",
       "  'Jaume Masia',\n",
       "  'Santiago Herrero',\n",
       "  'Emilio Alzamora',\n",
       "  'Augusto Fernandez',\n",
       "  'Sergio Gadea',\n",
       "  'Jordi Torres',\n",
       "  'Juan Garriga',\n",
       "  'Jorge Navarro',\n",
       "  'Herri Torrontegui',\n",
       "  'Efren Vazquez',\n",
       "  'Salvador Cañellas',\n",
       "  'Carlos Checa',\n",
       "  'Marcos Ramirez',\n",
       "  'Alex Debon',\n",
       "  'Manuel Herreros',\n",
       "  'Victor Palomo',\n",
       "  'Izan Guevara',\n",
       "  'Pablo Nieto',\n",
       "  'Xavier Artigas',\n",
       "  'Benjamin Grau',\n",
       "  'Miquel Pons',\n",
       "  'Alberto Puig',\n",
       "  'Aleix Espargaro'],\n",
       " 'GB': ['Mike Hailwood',\n",
       "  'Phil Read',\n",
       "  'John Surtees',\n",
       "  'Geoff Duke',\n",
       "  'Barry Sheene',\n",
       "  'Bill Ivy',\n",
       "  'Fergus Anderson',\n",
       "  'Dave Simmonds',\n",
       "  'Rodney Gould',\n",
       "  'Bill Lomas',\n",
       "  'Sam Lowes',\n",
       "  'Leslie Graham',\n",
       "  'Danny Kent',\n",
       "  'Chas Mortimer',\n",
       "  'Cecyl Sandford',\n",
       "  'John Hartle',\n",
       "  'Bob Mcintyre',\n",
       "  'Freddie Frith',\n",
       "  'Scott Redding',\n",
       "  'John Mcphee',\n",
       "  'Frank Perris',\n",
       "  'Maurice Cann',\n",
       "  'Charlie Williams',\n",
       "  'Bradley Smith',\n",
       "  'Cal Crutchlow',\n",
       "  'Mike Grant',\n",
       "  'Bob Foster',\n",
       "  'Alan Shepherd',\n",
       "  'Arthur Wheeler',\n",
       "  'William Doran',\n",
       "  'Dickie Dale',\n",
       "  'Tommy Wood',\n",
       "  'Stuart Graham',\n",
       "  'Tony Rutter',\n",
       "  'Harold Daniell',\n",
       "  'Peter Williams',\n",
       "  'John Newbold',\n",
       "  'Jack Brett',\n",
       "  'Ian Mcconnachie',\n",
       "  'Alan Carter',\n",
       "  'Godfrey Nash',\n",
       "  'Jeremy Mcwilliams',\n",
       "  'Tony Jefferies',\n",
       "  'John Williams',\n",
       "  'Phil Carpenter',\n",
       "  'Derek Minter'],\n",
       " 'AU': ['Mick Doohan',\n",
       "  'Casey Stoner',\n",
       "  'Wayne Gardner',\n",
       "  'Greg Hansford',\n",
       "  'Jack Miller',\n",
       "  'Kel Carruthers',\n",
       "  'Remy Gardner',\n",
       "  'Tom Phillis',\n",
       "  'Garry Mccoy',\n",
       "  'Ken Kavanagh',\n",
       "  'John Dodds',\n",
       "  'Barry Smith',\n",
       "  'Daryl Beattie',\n",
       "  'Jack Findlay',\n",
       "  'Keith Campbell',\n",
       "  'Anthony West',\n",
       "  'Kevin Magee',\n",
       "  'Troy Bayliss',\n",
       "  'Chris Vermeulen',\n",
       "  'Jack Ahearn'],\n",
       " nan: ['Jim Redman', 'Gary Hocking', 'Ray Amm', 'Franta Stastny'],\n",
       " 'DE': ['Anton Mang',\n",
       "  'Ralf Waldmann',\n",
       "  'Ernst Degner',\n",
       "  'Hans-Georg Anscheidt',\n",
       "  'Dieter Braun',\n",
       "  'Dirk Raudies',\n",
       "  'Werner Haas',\n",
       "  'Stefan Bradl',\n",
       "  'Sandro Cortese',\n",
       "  'Manfred Herweh',\n",
       "  'Jonas Folger',\n",
       "  'Peter Oettl',\n",
       "  'Helmut Bradl',\n",
       "  'Herbert Rittberger',\n",
       "  'Gerhard Waibel',\n",
       "  'Reinhold Roth',\n",
       "  'Martin Wimmer',\n",
       "  'Helmut Kassner',\n",
       "  'Steve Jenkner',\n",
       "  'Horst Fügner',\n",
       "  'Lukas Tulovic',\n",
       "  'Lukas Tulovic',\n",
       "  'Gerhard Thurow',\n",
       "  'Roland Felgenheier',\n",
       "  'Edmund Czihak',\n",
       "  'Edmund Czihak',\n",
       "  'Stefan Prein',\n",
       "  'Stefan Prein',\n",
       "  'Hermann Paul Müller',\n",
       "  'Fritz Reitmaier',\n",
       "  'Ingo Emmerich',\n",
       "  'Philipp Oettl'],\n",
       " 'US': ['Eddie Lawson',\n",
       "  'Freddie Spencer',\n",
       "  'Kevin Schwantz',\n",
       "  'Kenny Roberts',\n",
       "  'Wayne Rainey',\n",
       "  'John Kocinski',\n",
       "  'Randy Mamola',\n",
       "  'Kenny Roberts Jr',\n",
       "  'Nicky Hayden',\n",
       "  'Pat Hennen',\n",
       "  'Ben Spies',\n",
       "  'Jim Filice'],\n",
       " 'ZA': ['Kork Ballington',\n",
       "  'Brad Binder',\n",
       "  'Jonnie Ekerold',\n",
       "  'Alan North',\n",
       "  'Darryn Binder'],\n",
       " 'CH': ['Luigi Taveri',\n",
       "  'Stefan Dörflinger',\n",
       "  'Thomas Luthi',\n",
       "  'Bruno Kneubühler',\n",
       "  'Dominique Aegerter',\n",
       "  'Jacques Cornu',\n",
       "  'Ulrich Graf',\n",
       "  'Michel Frutschi',\n",
       "  'Roland Freymond',\n",
       "  'Gyula Marsovszky'],\n",
       " 'NZ': ['Hugh Anderson',\n",
       "  'Rod Coleman',\n",
       "  'Ginger Molloy',\n",
       "  'Simon Crafar',\n",
       "  'Ken Mudford',\n",
       "  'Kim Newcombe',\n",
       "  'Dennis Ireland'],\n",
       " 'VE': ['Carlos Lavado', 'Johnny Cecotto', 'Ivan Palazzese'],\n",
       " 'SE': ['Kent Andersson', 'Borje Jansson', 'Leif Gustafsson'],\n",
       " 'JP': ['Daijiro Kato',\n",
       "  'Tetsuya Harada',\n",
       "  'Noboru Ueda',\n",
       "  'Kazuto Sakata',\n",
       "  'Youichi Ui',\n",
       "  'Takazumi Katayama',\n",
       "  'Masao Azuma',\n",
       "  'Haruchika Aoki',\n",
       "  'Hiroshi Aoyama',\n",
       "  'Shinya Nakano',\n",
       "  'Tadayuki Okada',\n",
       "  'Tomomi Manako',\n",
       "  'Masaki Tokudome',\n",
       "  'Tohru Ukawa',\n",
       "  'Takeshi Tsujimura',\n",
       "  'Yoshimi Katayama',\n",
       "  'Kuninitsu Takahashi',\n",
       "  'Norick Abe',\n",
       "  'Yuki Takahashi',\n",
       "  'Hideo Kanaya',\n",
       "  'Tatsuki Suzuki',\n",
       "  'Takaaki Nakagami',\n",
       "  'Makoto Tamada',\n",
       "  'Mitsuo Itoh',\n",
       "  'Kenjiro Tanaka',\n",
       "  'Nobuatsu Aoki',\n",
       "  'Isao Morishita',\n",
       "  'Osamu Miyazaki',\n",
       "  'Kaito Toba',\n",
       "  'Horoshi Hasegawa',\n",
       "  'Tadahiko Taira',\n",
       "  'Shoya Tomizawa',\n",
       "  'Masaru Kobayashi',\n",
       "  'Tomoyoshi Koyama',\n",
       "  'Fumio Ito',\n",
       "  'Tetsuta Nagashima'],\n",
       " 'PT': ['Miguel Oliveira'],\n",
       " 'FI': ['Mika Kallio',\n",
       "  'Jarno Saarinen',\n",
       "  'Teuvo Lansivuori',\n",
       "  'Niki Tuuli',\n",
       "  'Pentti Korhonen'],\n",
       " 'FR': ['Johann Zarco',\n",
       "  'Fabio Quartararo',\n",
       "  'Christian Sarron',\n",
       "  'Olivier Jacque',\n",
       "  'Arnaud Vincent',\n",
       "  'Guy Bertin',\n",
       "  'Mike Di Meglio',\n",
       "  'Jean Francois Baldé',\n",
       "  'Randy De Puniet',\n",
       "  'Dominique Sarron',\n",
       "  'Michel Rougerie',\n",
       "  'Jean Philippe Ruggia',\n",
       "  'Patrick Fernandez',\n",
       "  'Eric Saul',\n",
       "  'Pierre Monneret',\n",
       "  'Alexis Masbou',\n",
       "  'Jean Aureal',\n",
       "  'Herve Guilleux',\n",
       "  'Jules Cluzel',\n",
       "  'Jean Claude Selini',\n",
       "  'Louis Rossi',\n",
       "  'Jacques Bolle',\n",
       "  'Olivier Chevallier',\n",
       "  'Jean Louis Tournadre',\n",
       "  'Regis Laconi'],\n",
       " 'NL': ['Jan De Vries',\n",
       "  'Hans Spaan',\n",
       "  'Henk Van Kessel',\n",
       "  'Aalt Toersen',\n",
       "  'Wil Hartog',\n",
       "  'Paul Lodewijkx',\n",
       "  'Theo Timmer',\n",
       "  'Jack Middelburg',\n",
       "  'Jan Huberts',\n",
       "  'Cees Van Dongen',\n",
       "  'Wilco Zeelenberg',\n",
       "  'Jan Bruins',\n",
       "  'Jos Schurgers',\n",
       "  'Boet Van Dulmen'],\n",
       " 'SM': ['Manuel Poggiali', 'Alex De Angelis'],\n",
       " 'IE': ['Ralph Bryans',\n",
       "  'Reg Armstrong',\n",
       "  'Tommy Robb',\n",
       "  'Cromie Mccandless',\n",
       "  'Tom Herron',\n",
       "  'Ray Mccullough',\n",
       "  'Artie Bell',\n",
       "  'Manliefe Barrington',\n",
       "  'R. Creith'],\n",
       " 'HU': ['Gabor Talmacsi', 'Janos Drapal'],\n",
       " 'BR': ['Alex Barros', 'Eric Granado', 'Adu Celso-santos'],\n",
       " 'AR': ['Sebastian Porto', 'Jorge Kissling', 'Benedicto Caldarella'],\n",
       " 'AT': ['Rupert Hollaus',\n",
       "  'August Auinger',\n",
       "  'Bert Schneider',\n",
       "  'Edi Stoellinger',\n",
       "  'Gerd Kafka'],\n",
       " 'BE': ['Didier De Radigues',\n",
       "  'Julien Van Zeebroeck',\n",
       "  'Xavier Simeon',\n",
       "  'Livio Loi'],\n",
       " 'CA': ['Mike Duff'],\n",
       " 'CZ': ['Lukas Pesek', 'Karel Abraham'],\n",
       " 'MT': ['Khairul Idham Pawi'],\n",
       " 'TH': ['Somkiat Chantra'],\n",
       " 'TR': ['Can öncü']}"
      ]
     },
     "execution_count": 26,
     "metadata": {},
     "output_type": "execute_result"
    }
   ],
   "source": [
    "pilot_nationalities"
   ]
  },
  {
   "cell_type": "code",
   "execution_count": 27,
   "id": "db1e2d66",
   "metadata": {},
   "outputs": [],
   "source": [
    "def get_nation_from_pilot(pilot, nation_dict):\n",
    "    for nation, names in nation_dict.items():\n",
    "        if pilot in names:\n",
    "            return nation"
   ]
  },
  {
   "cell_type": "code",
   "execution_count": 28,
   "id": "0aafdf8d",
   "metadata": {},
   "outputs": [
    {
     "name": "stdout",
     "output_type": "stream",
     "text": [
      "Jan Vries De not in pilot_positions\n",
      "Henk Kessel Van not in pilot_positions\n",
      "Francois Jean Baldé not in pilot_positions\n",
      "Lorenzo Porta Dalla not in pilot_positions\n",
      "Randy Puniet De not in pilot_positions\n",
      "Mike Meglio Di not in pilot_positions\n",
      "Alex Angelis De not in pilot_positions\n",
      "Didier Radigues De not in pilot_positions\n",
      "Celestino Vietti not in pilot_positions\n",
      "Fabio Giannantonio Di not in pilot_positions\n",
      "Philippe Jean Ruggia not in pilot_positions\n",
      "Idham Khairul Pawi not in pilot_positions\n",
      "Louis Jean Tournadre not in pilot_positions\n",
      "Marcellino Lucchi not in pilot_positions\n",
      "Claude Jean Selini not in pilot_positions\n",
      "Boet Dulmen Van not in pilot_positions\n",
      "Luigi Pier Conforti not in pilot_positions\n",
      "Giuseppe Colnago not in pilot_positions\n",
      "Cees Dongen Van not in pilot_positions\n",
      "Adu Celso-Santos not in pilot_positions\n",
      "Joe Roberts not in pilot_positions\n",
      "Can Öncü not in pilot_positions\n"
     ]
    }
   ],
   "source": [
    "nation_list = []\n",
    "rows_to_remove = []\n",
    "\n",
    "for i, row in pilot_info.iterrows():\n",
    "    nameList = row[\"Riders\"].title().split(' ')\n",
    "    newName = ' '.join(nameList[::-1])\n",
    "    if newName in set(pilot_positions[\"Rider\"]):\n",
    "        nation = get_nation_from_pilot(newName, pilot_nationalities)\n",
    "        nation_list.append(nation)\n",
    "    else:\n",
    "        print(f\"{newName} not in pilot_positions\")\n",
    "        rows_to_remove.append(i)\n",
    "\n",
    "pilot_info = pilot_info.drop(pilot_info.index[rows_to_remove])\n",
    "pilot_info[\"Country\"] = nation_list"
   ]
  },
  {
   "cell_type": "code",
   "execution_count": 29,
   "id": "17c6a6c0",
   "metadata": {},
   "outputs": [
    {
     "data": {
      "text/html": [
       "<div>\n",
       "<style scoped>\n",
       "    .dataframe tbody tr th:only-of-type {\n",
       "        vertical-align: middle;\n",
       "    }\n",
       "\n",
       "    .dataframe tbody tr th {\n",
       "        vertical-align: top;\n",
       "    }\n",
       "\n",
       "    .dataframe thead th {\n",
       "        text-align: right;\n",
       "    }\n",
       "</style>\n",
       "<table border=\"1\" class=\"dataframe\">\n",
       "  <thead>\n",
       "    <tr style=\"text-align: right;\">\n",
       "      <th></th>\n",
       "      <th>Riders</th>\n",
       "      <th>Victories</th>\n",
       "      <th>2nd places</th>\n",
       "      <th>3rd places</th>\n",
       "      <th>Pole positions from '74 to 2022</th>\n",
       "      <th>Race fastest lap to 2022</th>\n",
       "      <th>World Championships</th>\n",
       "      <th>Country</th>\n",
       "    </tr>\n",
       "  </thead>\n",
       "  <tbody>\n",
       "    <tr>\n",
       "      <th>0</th>\n",
       "      <td>AGOSTINI Giacomo</td>\n",
       "      <td>122</td>\n",
       "      <td>35.0</td>\n",
       "      <td>2.0</td>\n",
       "      <td>9.0</td>\n",
       "      <td>117.0</td>\n",
       "      <td>15.0</td>\n",
       "      <td>IT</td>\n",
       "    </tr>\n",
       "    <tr>\n",
       "      <th>1</th>\n",
       "      <td>ROSSI Valentino</td>\n",
       "      <td>115</td>\n",
       "      <td>67.0</td>\n",
       "      <td>53.0</td>\n",
       "      <td>65.0</td>\n",
       "      <td>96.0</td>\n",
       "      <td>9.0</td>\n",
       "      <td>IT</td>\n",
       "    </tr>\n",
       "    <tr>\n",
       "      <th>2</th>\n",
       "      <td>NIETO Angel</td>\n",
       "      <td>90</td>\n",
       "      <td>35.0</td>\n",
       "      <td>14.0</td>\n",
       "      <td>34.0</td>\n",
       "      <td>81.0</td>\n",
       "      <td>13.0</td>\n",
       "      <td>ES</td>\n",
       "    </tr>\n",
       "    <tr>\n",
       "      <th>3</th>\n",
       "      <td>MARQUEZ Marc</td>\n",
       "      <td>85</td>\n",
       "      <td>36.0</td>\n",
       "      <td>17.0</td>\n",
       "      <td>90.0</td>\n",
       "      <td>75.0</td>\n",
       "      <td>8.0</td>\n",
       "      <td>ES</td>\n",
       "    </tr>\n",
       "    <tr>\n",
       "      <th>4</th>\n",
       "      <td>HAILWOOD Mike</td>\n",
       "      <td>76</td>\n",
       "      <td>25.0</td>\n",
       "      <td>11.0</td>\n",
       "      <td>0.0</td>\n",
       "      <td>79.0</td>\n",
       "      <td>9.0</td>\n",
       "      <td>GB</td>\n",
       "    </tr>\n",
       "  </tbody>\n",
       "</table>\n",
       "</div>"
      ],
      "text/plain": [
       "             Riders  Victories  2nd places  3rd places  \\\n",
       "0  AGOSTINI Giacomo        122        35.0         2.0   \n",
       "1   ROSSI Valentino        115        67.0        53.0   \n",
       "2       NIETO Angel         90        35.0        14.0   \n",
       "3      MARQUEZ Marc         85        36.0        17.0   \n",
       "4     HAILWOOD Mike         76        25.0        11.0   \n",
       "\n",
       "   Pole positions from '74 to 2022  Race fastest lap to 2022  \\\n",
       "0                              9.0                     117.0   \n",
       "1                             65.0                      96.0   \n",
       "2                             34.0                      81.0   \n",
       "3                             90.0                      75.0   \n",
       "4                              0.0                      79.0   \n",
       "\n",
       "   World Championships Country  \n",
       "0                 15.0      IT  \n",
       "1                  9.0      IT  \n",
       "2                 13.0      ES  \n",
       "3                  8.0      ES  \n",
       "4                  9.0      GB  "
      ]
     },
     "execution_count": 29,
     "metadata": {},
     "output_type": "execute_result"
    }
   ],
   "source": [
    "pilot_info.head()"
   ]
  },
  {
   "cell_type": "code",
   "execution_count": 30,
   "id": "084d895b",
   "metadata": {},
   "outputs": [],
   "source": [
    "# obtaining all pilots and nationalities that correspond to the nationality\n",
    "pilot_nationalites={}\n",
    "for i,row in pilot_positions.iterrows():\n",
    "    if row['Country'] not in pilot_nationalites.keys():\n",
    "        pilot_nationalites[row['Country']]=[row['Rider']]\n",
    "    else:\n",
    "        pilot_nationalites[row[\"Country\"]].append(['Rider'])"
   ]
  },
  {
   "cell_type": "code",
   "execution_count": 31,
   "id": "8f2bc44b",
   "metadata": {},
   "outputs": [],
   "source": [
    "def get_antion_from_pilot(pilot,nation_dict):\n",
    "    for nation ,names in nation_dict.items():\n",
    "        if pilot in names:\n",
    "            return nation"
   ]
  },
  {
   "cell_type": "code",
   "execution_count": 32,
   "id": "270da4ab",
   "metadata": {},
   "outputs": [],
   "source": [
    "nation_list = []\n",
    "rows_to_remove = []\n",
    "\n",
    "for i, row in pilot_info.iterrows():\n",
    "    nameList = row[\"Riders\"].title().split(' ')\n",
    "    newName = ' '.join(nameList[::-1])\n",
    "    if newName in set(pilot_positions[\"Rider\"]):\n",
    "        nation = get_nation_from_pilot(newName, pilot_nationalities)\n",
    "        nation_list.append(nation)\n",
    "    else:\n",
    "        print(f\"{newName} not in pilot_positions\")\n",
    "        rows_to_remove.append(i)\n",
    "\n",
    "pilot_info = pilot_info.drop(pilot_info.index[rows_to_remove])\n",
    "pilot_info[\"Country\"] = nation_list"
   ]
  },
  {
   "cell_type": "code",
   "execution_count": 33,
   "id": "47fd80ca",
   "metadata": {},
   "outputs": [
    {
     "data": {
      "text/html": [
       "<div>\n",
       "<style scoped>\n",
       "    .dataframe tbody tr th:only-of-type {\n",
       "        vertical-align: middle;\n",
       "    }\n",
       "\n",
       "    .dataframe tbody tr th {\n",
       "        vertical-align: top;\n",
       "    }\n",
       "\n",
       "    .dataframe thead th {\n",
       "        text-align: right;\n",
       "    }\n",
       "</style>\n",
       "<table border=\"1\" class=\"dataframe\">\n",
       "  <thead>\n",
       "    <tr style=\"text-align: right;\">\n",
       "      <th></th>\n",
       "      <th>Riders</th>\n",
       "      <th>Victories</th>\n",
       "      <th>2nd places</th>\n",
       "      <th>3rd places</th>\n",
       "      <th>Pole positions from '74 to 2022</th>\n",
       "      <th>Race fastest lap to 2022</th>\n",
       "      <th>World Championships</th>\n",
       "      <th>Country</th>\n",
       "    </tr>\n",
       "  </thead>\n",
       "  <tbody>\n",
       "    <tr>\n",
       "      <th>0</th>\n",
       "      <td>AGOSTINI Giacomo</td>\n",
       "      <td>122</td>\n",
       "      <td>35.0</td>\n",
       "      <td>2.0</td>\n",
       "      <td>9.0</td>\n",
       "      <td>117.0</td>\n",
       "      <td>15.0</td>\n",
       "      <td>IT</td>\n",
       "    </tr>\n",
       "    <tr>\n",
       "      <th>1</th>\n",
       "      <td>ROSSI Valentino</td>\n",
       "      <td>115</td>\n",
       "      <td>67.0</td>\n",
       "      <td>53.0</td>\n",
       "      <td>65.0</td>\n",
       "      <td>96.0</td>\n",
       "      <td>9.0</td>\n",
       "      <td>IT</td>\n",
       "    </tr>\n",
       "    <tr>\n",
       "      <th>2</th>\n",
       "      <td>NIETO Angel</td>\n",
       "      <td>90</td>\n",
       "      <td>35.0</td>\n",
       "      <td>14.0</td>\n",
       "      <td>34.0</td>\n",
       "      <td>81.0</td>\n",
       "      <td>13.0</td>\n",
       "      <td>ES</td>\n",
       "    </tr>\n",
       "    <tr>\n",
       "      <th>3</th>\n",
       "      <td>MARQUEZ Marc</td>\n",
       "      <td>85</td>\n",
       "      <td>36.0</td>\n",
       "      <td>17.0</td>\n",
       "      <td>90.0</td>\n",
       "      <td>75.0</td>\n",
       "      <td>8.0</td>\n",
       "      <td>ES</td>\n",
       "    </tr>\n",
       "    <tr>\n",
       "      <th>4</th>\n",
       "      <td>HAILWOOD Mike</td>\n",
       "      <td>76</td>\n",
       "      <td>25.0</td>\n",
       "      <td>11.0</td>\n",
       "      <td>0.0</td>\n",
       "      <td>79.0</td>\n",
       "      <td>9.0</td>\n",
       "      <td>GB</td>\n",
       "    </tr>\n",
       "  </tbody>\n",
       "</table>\n",
       "</div>"
      ],
      "text/plain": [
       "             Riders  Victories  2nd places  3rd places  \\\n",
       "0  AGOSTINI Giacomo        122        35.0         2.0   \n",
       "1   ROSSI Valentino        115        67.0        53.0   \n",
       "2       NIETO Angel         90        35.0        14.0   \n",
       "3      MARQUEZ Marc         85        36.0        17.0   \n",
       "4     HAILWOOD Mike         76        25.0        11.0   \n",
       "\n",
       "   Pole positions from '74 to 2022  Race fastest lap to 2022  \\\n",
       "0                              9.0                     117.0   \n",
       "1                             65.0                      96.0   \n",
       "2                             34.0                      81.0   \n",
       "3                             90.0                      75.0   \n",
       "4                              0.0                      79.0   \n",
       "\n",
       "   World Championships Country  \n",
       "0                 15.0      IT  \n",
       "1                  9.0      IT  \n",
       "2                 13.0      ES  \n",
       "3                  8.0      ES  \n",
       "4                  9.0      GB  "
      ]
     },
     "execution_count": 33,
     "metadata": {},
     "output_type": "execute_result"
    }
   ],
   "source": [
    "pilot_info.head()"
   ]
  },
  {
   "cell_type": "code",
   "execution_count": 34,
   "id": "ff542e6a",
   "metadata": {},
   "outputs": [],
   "source": [
    "n_pilots_per_nation=pilot_info.groupby(\"Country\")[\"Riders\"].count()"
   ]
  },
  {
   "cell_type": "code",
   "execution_count": 35,
   "id": "aaeddab0",
   "metadata": {},
   "outputs": [
    {
     "data": {
      "text/plain": [
       "<AxesSubplot:title={'center':'Number of pilots per country'}, xlabel='Country', ylabel='Number of pilots'>"
      ]
     },
     "execution_count": 35,
     "metadata": {},
     "output_type": "execute_result"
    },
    {
     "data": {
      "image/png": "[encoded data removed]",
      "text/plain": [
       "<Figure size 432x288 with 1 Axes>"
      ]
     },
     "metadata": {
      "needs_background": "light"
     },
     "output_type": "display_data"
    }
   ],
   "source": [
    "n_pilots_per_nation = n_pilots_per_nation.sort_values(ascending=False)\n",
    "# plotting\n",
    "n_pilots_per_nation.plot(kind=\"bar\",\n",
    "                        xlabel = \"Country\", ylabel = \"Number of pilots\",\n",
    "                        title = \"Number of pilots per country\")\n"
   ]
  },
  {
   "cell_type": "code",
   "execution_count": 36,
   "id": "f98bb6d0",
   "metadata": {},
   "outputs": [
    {
     "data": {
      "text/plain": [
       "pandas.core.series.Series"
      ]
     },
     "execution_count": 36,
     "metadata": {},
     "output_type": "execute_result"
    }
   ],
   "source": [
    "type(n_pilots_per_nation)"
   ]
  },
  {
   "cell_type": "markdown",
   "id": "d120fc05",
   "metadata": {},
   "source": []
  },
  {
   "cell_type": "markdown",
   "id": "8103827b",
   "metadata": {},
   "source": [
    "How each country's pilots are displaced by the championship"
   ]
  },
  {
   "cell_type": "code",
   "execution_count": 37,
   "id": "05877796",
   "metadata": {},
   "outputs": [
    {
     "name": "stderr",
     "output_type": "stream",
     "text": [
      "/tmp/ipykernel_27981/2039957805.py:12: UserWarning: FixedFormatter should only be used together with FixedLocator\n",
      "  ax[0].set_xticklabels([\"\"])\n",
      "/tmp/ipykernel_27981/2039957805.py:17: UserWarning: FixedFormatter should only be used together with FixedLocator\n",
      "  ax[1].set_xticklabels([\"\"])\n",
      "/tmp/ipykernel_27981/2039957805.py:22: UserWarning: FixedFormatter should only be used together with FixedLocator\n",
      "  ax[2].set_xticklabels([\"\"])\n"
     ]
    },
    {
     "data": {
      "image/png": "[encoded data removed]",
      "text/plain": [
       "<Figure size 1296x360 with 3 Axes>"
      ]
     },
     "metadata": {
      "needs_background": "light"
     },
     "output_type": "display_data"
    }
   ],
   "source": [
    "italians = pilot_info[pilot_info[\"Country\"] == \"IT\"].sort_values(by=\"World Championships\", ascending=False)\n",
    "spanish = pilot_info[pilot_info[\"Country\"] == \"ES\"].sort_values(by=\"World Championships\", ascending=False)\n",
    "british = pilot_info[pilot_info[\"Country\"] == \"GB\"].sort_values(by=\"World Championships\", ascending=False)\n",
    "\n",
    "\n",
    "fig, ax = plt.subplots(1, 3, figsize = (18, 5))\n",
    "fig.suptitle(\"Distribution of championship wins for the top 3 countries\")\n",
    "\n",
    "ax[0].bar(italians[\"Riders\"], italians[\"World Championships\"])\n",
    "ax[0].set_title(\"Italy\")\n",
    "ax[0].set_ylim(bottom = 0, top = 16)\n",
    "ax[0].set_xticklabels([\"\"])\n",
    "\n",
    "ax[1].bar(spanish[\"Riders\"], spanish[\"World Championships\"])\n",
    "ax[1].set_title(\"Spain\")\n",
    "ax[1].set_ylim(bottom = 0, top = 16)\n",
    "ax[1].set_xticklabels([\"\"])\n",
    "\n",
    "ax[2].bar(british[\"Riders\"], british[\"World Championships\"])\n",
    "ax[2].set_title(\"Great Britain\")\n",
    "ax[2].set_ylim(bottom = 0, top = 16)\n",
    "ax[2].set_xticklabels([\"\"])\n",
    "\n",
    "plt.show()\n"
   ]
  },
  {
   "cell_type": "markdown",
   "id": "2d04bb09",
   "metadata": {},
   "source": [
    "We can see that even national championships follow a power law. This indicates that a small number of riders account for the majority of championship victories. This implies that a select group of cyclists have won the majority of championships to a greater extent."
   ]
  },
  {
   "cell_type": "markdown",
   "id": "7886f074",
   "metadata": {},
   "source": [
    "# % of pilots that have won championships for the best nations"
   ]
  },
  {
   "cell_type": "code",
   "execution_count": 38,
   "id": "1da326a7",
   "metadata": {},
   "outputs": [],
   "source": [
    "new_df = pd.DataFrame(columns=[\"IT\", \"ES\", \"GB\"], index=[\"0\", \"1-5\", \"6-10\", \"10+\"])"
   ]
  },
  {
   "cell_type": "code",
   "execution_count": 39,
   "id": "3cfd0148",
   "metadata": {},
   "outputs": [],
   "source": [
    "def populate_new_df(pilot_df, new_df):\n",
    "    nations_of_interest = [\"IT\", \"ES\", \"GB\"]\n",
    "    \n",
    "    for nation in nations_of_interest:\n",
    "        subdf = italians = pilot_info[pilot_info[\"Country\"] == nation]\n",
    "        \n",
    "        champ_buckets = {\n",
    "            \"10+\": 0,\n",
    "            \"6-10\": 0,\n",
    "            \"1-5\": 0,\n",
    "            \"0\" : 0\n",
    "        }\n",
    "\n",
    "        for i, row in subdf.iterrows():\n",
    "            n = row[\"World Championships\"]\n",
    "            if n > 10:\n",
    "                champ_buckets[\"10+\"] += 1\n",
    "            elif 6 <= n <= 10:\n",
    "                champ_buckets[\"6-10\"] += 1\n",
    "            elif 1 <= n <= 5:\n",
    "                champ_buckets[\"1-5\"] += 1\n",
    "            elif n == 0.0:\n",
    "                champ_buckets[\"0\"] += 1\n",
    "\n",
    "        for i, row in new_df.iterrows():\n",
    "            row[nation] = champ_buckets[i]"
   ]
  },
  {
   "cell_type": "code",
   "execution_count": 40,
   "id": "f249e19e",
   "metadata": {},
   "outputs": [
    {
     "data": {
      "text/html": [
       "<div>\n",
       "<style scoped>\n",
       "    .dataframe tbody tr th:only-of-type {\n",
       "        vertical-align: middle;\n",
       "    }\n",
       "\n",
       "    .dataframe tbody tr th {\n",
       "        vertical-align: top;\n",
       "    }\n",
       "\n",
       "    .dataframe thead th {\n",
       "        text-align: right;\n",
       "    }\n",
       "</style>\n",
       "<table border=\"1\" class=\"dataframe\">\n",
       "  <thead>\n",
       "    <tr style=\"text-align: right;\">\n",
       "      <th></th>\n",
       "      <th>IT</th>\n",
       "      <th>ES</th>\n",
       "      <th>GB</th>\n",
       "    </tr>\n",
       "  </thead>\n",
       "  <tbody>\n",
       "    <tr>\n",
       "      <th>0</th>\n",
       "      <td>48</td>\n",
       "      <td>28</td>\n",
       "      <td>31</td>\n",
       "    </tr>\n",
       "    <tr>\n",
       "      <th>1-5</th>\n",
       "      <td>24</td>\n",
       "      <td>20</td>\n",
       "      <td>8</td>\n",
       "    </tr>\n",
       "    <tr>\n",
       "      <th>6-10</th>\n",
       "      <td>2</td>\n",
       "      <td>1</td>\n",
       "      <td>4</td>\n",
       "    </tr>\n",
       "    <tr>\n",
       "      <th>10+</th>\n",
       "      <td>1</td>\n",
       "      <td>1</td>\n",
       "      <td>0</td>\n",
       "    </tr>\n",
       "  </tbody>\n",
       "</table>\n",
       "</div>"
      ],
      "text/plain": [
       "      IT  ES  GB\n",
       "0     48  28  31\n",
       "1-5   24  20   8\n",
       "6-10   2   1   4\n",
       "10+    1   1   0"
      ]
     },
     "execution_count": 40,
     "metadata": {},
     "output_type": "execute_result"
    }
   ],
   "source": [
    "populate_new_df(pilot_info, new_df)\n",
    "new_df"
   ]
  },
  {
   "cell_type": "code",
   "execution_count": 41,
   "id": "e3d76870",
   "metadata": {},
   "outputs": [
    {
     "data": {
      "text/plain": [
       "<AxesSubplot:title={'center':'% of pilots who have won championships'}, xlabel='Number of championships', ylabel='% of pilots'>"
      ]
     },
     "execution_count": 41,
     "metadata": {},
     "output_type": "execute_result"
    },
    {
     "data": {
      "image/png": "[encoded data removed]",
      "text/plain": [
       "<Figure size 432x288 with 1 Axes>"
      ]
     },
     "metadata": {
      "needs_background": "light"
     },
     "output_type": "display_data"
    }
   ],
   "source": [
    "pct_df = new_df.loc[:, :].div(new_df.sum(axis=0), axis=1) # transforming to percentages\n",
    "pct_df.plot(kind=\"bar\", rot=1,\n",
    "           xlabel = \"Number of championships\", ylabel = \"% of pilots\",\n",
    "           title = \"% of pilots who have won championships\")\n"
   ]
  },
  {
   "cell_type": "markdown",
   "id": "01f2ca30",
   "metadata": {},
   "source": [
    "# et the total number of wins, second places and third places for each country"
   ]
  },
  {
   "cell_type": "code",
   "execution_count": 42,
   "id": "8c944e03",
   "metadata": {},
   "outputs": [
    {
     "data": {
      "image/png": "[encoded data removed]",
      "text/plain": [
       "<Figure size 1296x360 with 3 Axes>"
      ]
     },
     "metadata": {
      "needs_background": "light"
     },
     "output_type": "display_data"
    }
   ],
   "source": [
    "# get the total number of wins, second places and third places for each country\n",
    "\n",
    "n_first_places = pilot_info.groupby([\"Country\"])[\"Victories\"].sum().sort_values(ascending=False)\n",
    "n_second_places = pilot_info.groupby([\"Country\"])[\"2nd places\"].sum().sort_values(ascending=False)\n",
    "n_third_places = pilot_info.groupby([\"Country\"])[\"3rd places\"].sum().sort_values(ascending=False)\n",
    "\n",
    "fig, ax = plt.subplots(1, 3, figsize = (18, 5))\n",
    "ax[0].bar(n_first_places.index, n_first_places)\n",
    "ax[0].set_ylim(bottom=0, top=850)\n",
    "ax[0].set_title(\"Number of 1st per country\")\n",
    "ax[0].set_xlabel(\"Country\")\n",
    "\n",
    "ax[1].bar(n_second_places.index, n_second_places)\n",
    "ax[1].set_ylim(bottom=0, top=850)\n",
    "ax[1].set_title(\"Number of 2nd per country\")\n",
    "ax[1].set_xlabel(\"Country\")\n",
    "\n",
    "ax[2].bar(n_third_places.index, n_third_places)\n",
    "ax[2].set_ylim(bottom=0, top=850)\n",
    "ax[2].set_title(\"Number of 3rd per country\")\n",
    "ax[2].set_xlabel(\"Country\")\n",
    "\n",
    "plt.show()"
   ]
  },
  {
   "cell_type": "markdown",
   "id": "f766672a",
   "metadata": {},
   "source": [
    "According to the data on cyclists, Italy is the country with the most successful riders, with the Spanish and British riders coming in second and third, respectively.\n",
    "\n",
    "It's also interesting to note that the number of championship victories is governed by a power law, meaning that a small number of riders consistently take home the most titles, just as they frequently finish first, second, and third in competitions. This pattern also appears in pilot victories within the same country."
   ]
  },
  {
   "cell_type": "code",
   "execution_count": null,
   "id": "94464e01",
   "metadata": {},
   "outputs": [],
   "source": []
  }
 ],
 "metadata": {
  "kernelspec": {
   "display_name": "Python 3 (ipykernel)",
   "language": "python",
   "name": "python3"
  },
  "language_info": {
   "codemirror_mode": {
    "name": "ipython",
    "version": 3
   },
   "file_extension": ".py",
   "mimetype": "text/x-python",
   "name": "python",
   "nbconvert_exporter": "python",
   "pygments_lexer": "ipython3",
   "version": "3.9.12"
  }
 },
 "nbformat": 4,
 "nbformat_minor": 5
}
