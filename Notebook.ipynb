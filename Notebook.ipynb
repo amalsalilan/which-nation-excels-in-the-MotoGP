{
 "cells": [
  {
   "cell_type": "code",
   "execution_count": 1,
   "id": "9d54f0bc",
   "metadata": {},
   "outputs": [],
   "source": [
    "import numpy as np\n",
    "import pandas as pd\n",
    "import matplotlib.pyplot as plt\n",
    "import seaborn as sns"
   ]
  },
  {
   "cell_type": "code",
   "execution_count": 2,
   "id": "d524c127",
   "metadata": {},
   "outputs": [],
   "source": [
    "\n",
    "data=pd.read_csv('constructure-world-championship.csv')"
   ]
  },
  {
   "cell_type": "code",
   "execution_count": 3,
   "id": "4b4972ea",
   "metadata": {},
   "outputs": [
    {
     "data": {
      "text/html": [
       "<div>\n",
       "<style scoped>\n",
       "    .dataframe tbody tr th:only-of-type {\n",
       "        vertical-align: middle;\n",
       "    }\n",
       "\n",
       "    .dataframe tbody tr th {\n",
       "        vertical-align: top;\n",
       "    }\n",
       "\n",
       "    .dataframe thead th {\n",
       "        text-align: right;\n",
       "    }\n",
       "</style>\n",
       "<table border=\"1\" class=\"dataframe\">\n",
       "  <thead>\n",
       "    <tr style=\"text-align: right;\">\n",
       "      <th></th>\n",
       "      <th>Season</th>\n",
       "      <th>Constructor</th>\n",
       "      <th>Class</th>\n",
       "    </tr>\n",
       "  </thead>\n",
       "  <tbody>\n",
       "    <tr>\n",
       "      <th>0</th>\n",
       "      <td>2021</td>\n",
       "      <td>Yamaha</td>\n",
       "      <td>MotoGP™</td>\n",
       "    </tr>\n",
       "    <tr>\n",
       "      <th>1</th>\n",
       "      <td>2021</td>\n",
       "      <td>Kalex</td>\n",
       "      <td>Moto2™</td>\n",
       "    </tr>\n",
       "    <tr>\n",
       "      <th>2</th>\n",
       "      <td>2021</td>\n",
       "      <td>KTM</td>\n",
       "      <td>Moto3™</td>\n",
       "    </tr>\n",
       "    <tr>\n",
       "      <th>3</th>\n",
       "      <td>2021</td>\n",
       "      <td>Energica</td>\n",
       "      <td>MotoE™</td>\n",
       "    </tr>\n",
       "    <tr>\n",
       "      <th>4</th>\n",
       "      <td>2020</td>\n",
       "      <td>Suzuki</td>\n",
       "      <td>MotoGP™</td>\n",
       "    </tr>\n",
       "  </tbody>\n",
       "</table>\n",
       "</div>"
      ],
      "text/plain": [
       "   Season Constructor    Class\n",
       "0    2021      Yamaha  MotoGP™\n",
       "1    2021       Kalex   Moto2™\n",
       "2    2021         KTM   Moto3™\n",
       "3    2021    Energica   MotoE™\n",
       "4    2020      Suzuki  MotoGP™"
      ]
     },
     "execution_count": 3,
     "metadata": {},
     "output_type": "execute_result"
    }
   ],
   "source": [
    "data.head()"
   ]
  },
  {
   "cell_type": "code",
   "execution_count": 4,
   "id": "acc26c45",
   "metadata": {},
   "outputs": [
    {
     "name": "stdout",
     "output_type": "stream",
     "text": [
      "<class 'pandas.core.frame.DataFrame'>\n",
      "RangeIndex: 284 entries, 0 to 283\n",
      "Data columns (total 3 columns):\n",
      " #   Column       Non-Null Count  Dtype \n",
      "---  ------       --------------  ----- \n",
      " 0   Season       284 non-null    int64 \n",
      " 1   Constructor  284 non-null    object\n",
      " 2   Class        284 non-null    object\n",
      "dtypes: int64(1), object(2)\n",
      "memory usage: 6.8+ KB\n"
     ]
    }
   ],
   "source": [
    "data.info()"
   ]
  },
  {
   "cell_type": "code",
   "execution_count": 5,
   "id": "79dd824f",
   "metadata": {},
   "outputs": [
    {
     "data": {
      "image/png": "[encoded data removed]",
      "text/plain": [
       "<Figure size 720x360 with 1 Axes>"
      ]
     },
     "metadata": {
      "needs_background": "light"
     },
     "output_type": "display_data"
    }
   ],
   "source": [
    "class_count=data['Class'].value_counts()\n",
    "plt.figure(figsize=(10,5))\n",
    "sns.barplot(x=class_count.index,y=class_count.values[:20],alpha=0.8)\n",
    "plt.title('calculating the number of times each lesson was offered')\n",
    "plt.ylabel(\"class\")\n",
    "plt.show()"
   ]
  },
  {
   "cell_type": "code",
   "execution_count": 6,
   "id": "fee3a310",
   "metadata": {},
   "outputs": [
    {
     "name": "stdout",
     "output_type": "stream",
     "text": [
      "Honda                65\n",
      "Yamaha               38\n",
      "MV Agusta            35\n",
      "Aprilia              18\n",
      "Suzuki               16\n",
      "Derbi                11\n",
      "Kalex                10\n",
      "Kawasaki              9\n",
      "Moto Guzzi            8\n",
      "Gilera                8\n",
      "Garelli               6\n",
      "Kreidler              6\n",
      "NSU                   5\n",
      "KTM                   5\n",
      "Mondial               5\n",
      "Harley Davidson       4\n",
      "Morbidelli            4\n",
      "Bultaco               3\n",
      "Norton                3\n",
      "Benelli               3\n",
      "Energica              3\n",
      "Krauser               2\n",
      "Velocette             2\n",
      "Minarelli             2\n",
      "MBA                   2\n",
      "Van Veen-Kreidler     1\n",
      "JJ Cobas              1\n",
      "Ducati                1\n",
      "Kreidler Van Veen     1\n",
      "Bimota-Yamaha         1\n",
      "Motul Bultaco         1\n",
      "Suter                 1\n",
      "Moriwaki              1\n",
      "Zundapp               1\n",
      "Chevallier            1\n",
      "AJS                   1\n",
      "Name: Constructor, dtype: int64 \n",
      "Total is 36\n"
     ]
    }
   ],
   "source": [
    "# total constructors\n",
    "constructors=data['Constructor'].value_counts()\n",
    "print(constructors,\"\\nTotal is\",len(constructors))"
   ]
  },
  {
   "cell_type": "markdown",
   "id": "4e808a32",
   "metadata": {},
   "source": [
    "# Japan's Honda and Yamaha are the top two manufacturers, and Italy's MV Augusta is third."
   ]
  },
  {
   "cell_type": "markdown",
   "id": "e261c228",
   "metadata": {},
   "source": [
    "### The amount of constructor championships each nation has won will now be determined."
   ]
  },
  {
   "cell_type": "code",
   "execution_count": 7,
   "id": "b0bb8f2c",
   "metadata": {},
   "outputs": [],
   "source": [
    "italian = ['Energica', 'Aprilia', 'Derbi', 'Gilera', 'Ducati', \n",
    "           'Garelli', 'Minarelli', 'MBA', 'Bimota-Yamaha', 'Morbidelli', \n",
    "           'MV Agusta', 'Benelli', 'Mondial', 'Moto Guzzi']\n",
    "\n",
    "japanese = ['Yamaha', 'Suzuki', 'Honda', 'Moriwaki', 'Kawasaki']\n",
    "\n",
    "german = ['Kalex', 'Krauser', 'Zundapp', 'Kreidler']"
   ]
  },
  {
   "cell_type": "code",
   "execution_count": 8,
   "id": "40a2177d",
   "metadata": {},
   "outputs": [],
   "source": [
    "\n",
    "\n",
    "nation = []\n",
    "for i, row in data.iterrows():\n",
    "    if row[\"Constructor\"] in italian:\n",
    "        nation.append(\"Italian\")\n",
    "    elif row[\"Constructor\"] in japanese:\n",
    "        nation.append(\"Japanese\")\n",
    "    elif row[\"Constructor\"] in german:\n",
    "        nation.append(\"German\")\n",
    "    else:\n",
    "        nation.append(\"Other\")\n",
    "\n",
    "data[\"Nation\"] = nation\n",
    "\n",
    "\n"
   ]
  },
  {
   "cell_type": "code",
   "execution_count": 9,
   "id": "2f35d099",
   "metadata": {},
   "outputs": [
    {
     "data": {
      "text/plain": [
       "<AxesSubplot:title={'center':'Number of championship wins by country'}, xlabel='Country', ylabel='Number of wins'>"
      ]
     },
     "execution_count": 9,
     "metadata": {},
     "output_type": "execute_result"
    },
    {
     "data": {
      "image/png": "[encoded data removed]",
      "text/plain": [
       "<Figure size 432x288 with 1 Axes>"
      ]
     },
     "metadata": {
      "needs_background": "light"
     },
     "output_type": "display_data"
    }
   ],
   "source": [
    "nation_wins = data[\"Nation\"].value_counts()\n",
    "\n",
    "nation_wins.plot(kind='bar', rot = 1,\n",
    "                xlabel = \"Country\", ylabel = \"Number of wins\",\n",
    "                title = \"Number of championship wins by country\")"
   ]
  },
  {
   "cell_type": "code",
   "execution_count": 10,
   "id": "519fb3a1",
   "metadata": {},
   "outputs": [
    {
     "name": "stdout",
     "output_type": "stream",
     "text": [
      "Japanese    129\n",
      "Italian     107\n",
      "Other        29\n",
      "German       19\n",
      "Name: Nation, dtype: int64\n"
     ]
    }
   ],
   "source": [
    "print(nation_wins)"
   ]
  },
  {
   "cell_type": "markdown",
   "id": "8865a2b2",
   "metadata": {},
   "source": [
    "# In the constructor championships, the Japanese came out on top, followed by the Italians and the Germans."
   ]
  },
  {
   "cell_type": "raw",
   "id": "909c5a94",
   "metadata": {},
   "source": [
    "See how many wins each nation has received in various categories."
   ]
  },
  {
   "cell_type": "code",
   "execution_count": 11,
   "id": "47fd36ec",
   "metadata": {},
   "outputs": [],
   "source": [
    "df_by_class=data.groupby(by=['Class','Nation'])['Season'].count()\n"
   ]
  },
  {
   "cell_type": "code",
   "execution_count": 12,
   "id": "35f224fa",
   "metadata": {},
   "outputs": [],
   "source": [
    "n_editon=df_by_class.unstack().sum(axis=1)"
   ]
  },
  {
   "cell_type": "code",
   "execution_count": 13,
   "id": "5e8906fd",
   "metadata": {},
   "outputs": [
    {
     "data": {
      "text/plain": [
       "Class    Nation  \n",
       "125cc    Italian     0.603175\n",
       "         Japanese    0.349206\n",
       "         Other       0.047619\n",
       "250cc    Italian     0.344262\n",
       "         Japanese    0.540984\n",
       "         Other       0.114754\n",
       "350cc    Italian     0.470588\n",
       "         Japanese    0.382353\n",
       "         Other       0.147059\n",
       "50cc     German      0.318182\n",
       "         Italian     0.090909\n",
       "         Japanese    0.318182\n",
       "         Other       0.272727\n",
       "80cc     German      0.333333\n",
       "         Italian     0.666667\n",
       "Moto2™   German      0.833333\n",
       "         Japanese    0.083333\n",
       "         Other       0.083333\n",
       "Moto3™   Japanese    0.500000\n",
       "         Other       0.500000\n",
       "MotoE™   Italian     1.000000\n",
       "MotoGP™  Italian     0.315068\n",
       "         Japanese    0.657534\n",
       "         Other       0.027397\n",
       "dtype: float64"
      ]
     },
     "execution_count": 13,
     "metadata": {},
     "output_type": "execute_result"
    }
   ],
   "source": [
    "df_by_class_pct=df_by_class/n_editon\n",
    "df_by_class_pct"
   ]
  },
  {
   "cell_type": "raw",
   "id": "81461727",
   "metadata": {},
   "source": [
    "Let's now plot the number of championships each country won in each category."
   ]
  },
  {
   "cell_type": "code",
   "execution_count": 14,
   "id": "1281772e",
   "metadata": {},
   "outputs": [
    {
     "data": {
      "text/plain": [
       "<AxesSubplot:title={'center':'Number of wins in each category by each nations'}, xlabel='Class', ylabel='Number  of Championships'>"
      ]
     },
     "execution_count": 14,
     "metadata": {},
     "output_type": "execute_result"
    },
    {
     "data": {
      "image/png": "[encoded data removed]",
      "text/plain": [
       "<Figure size 1080x576 with 1 Axes>"
      ]
     },
     "metadata": {
      "needs_background": "light"
     },
     "output_type": "display_data"
    }
   ],
   "source": [
    "\n",
    "df_by_class_pct.unstack().plot(kind=\"bar\",legend=True,figsize=(15,8),\n",
    "                              rot=1,ylabel=\"Number  of Championships\",\n",
    "                              title=\"Number of wins in each category by each nations\")"
   ]
  },
  {
   "cell_type": "raw",
   "id": "c1456f7b",
   "metadata": {},
   "source": [
    "# The most prosperous manufacturers in the 250cc and MotoGP categories are Japanese ones. Japanese manufacturers appear to be particularly dominating in the MotoGP class in particular (having won just over 65% of all championships)."
   ]
  },
  {
   "cell_type": "raw",
   "id": "e14b4167",
   "metadata": {},
   "source": [
    "# German manufacturers are exceptionally successful in the Moto2 division (83% of all editions were won by them), but are not really significant in other classes, which is another intriguing fact."
   ]
  },
  {
   "cell_type": "markdown",
   "id": "f38e3d7c",
   "metadata": {},
   "source": [
    "Counting the number of titles each country has claimed in the various divisions"
   ]
  },
  {
   "cell_type": "code",
   "execution_count": 15,
   "id": "8d1485f4",
   "metadata": {},
   "outputs": [
    {
     "data": {
      "text/plain": [
       "Nation    Class  \n",
       "German    50cc        7\n",
       "          80cc        2\n",
       "          Moto2™     10\n",
       "Italian   125cc      38\n",
       "          250cc      21\n",
       "          350cc      16\n",
       "          50cc        2\n",
       "          80cc        4\n",
       "          MotoE™      3\n",
       "          MotoGP™    23\n",
       "Japanese  125cc      22\n",
       "          250cc      33\n",
       "          350cc      13\n",
       "          50cc        7\n",
       "          Moto2™      1\n",
       "          Moto3™      5\n",
       "          MotoGP™    48\n",
       "Other     125cc       3\n",
       "          250cc       7\n",
       "          350cc       5\n",
       "          50cc        6\n",
       "          Moto2™      1\n",
       "          Moto3™      5\n",
       "          MotoGP™     2\n",
       "Name: Season, dtype: int64"
      ]
     },
     "execution_count": 15,
     "metadata": {},
     "output_type": "execute_result"
    }
   ],
   "source": [
    "df_by_nations=data.groupby(['Nation','Class'])['Season'].count()\n",
    "df_by_nations"
   ]
  },
  {
   "cell_type": "raw",
   "id": "40b86d4d",
   "metadata": {},
   "source": [
    "# converting dataframe to percentage"
   ]
  },
  {
   "cell_type": "code",
   "execution_count": 16,
   "id": "a5b2ddfd",
   "metadata": {},
   "outputs": [
    {
     "data": {
      "text/plain": [
       "Nation\n",
       "German       19.0\n",
       "Italian     107.0\n",
       "Japanese    129.0\n",
       "Other        29.0\n",
       "dtype: float64"
      ]
     },
     "execution_count": 16,
     "metadata": {},
     "output_type": "execute_result"
    }
   ],
   "source": [
    "n_wins_by_nation=df_by_nations.unstack().sum(axis=1)\n",
    "n_wins_by_nation"
   ]
  },
  {
   "cell_type": "code",
   "execution_count": 17,
   "id": "d726c5bf",
   "metadata": {},
   "outputs": [
    {
     "data": {
      "text/plain": [
       "Nation    Class  \n",
       "German    50cc       0.368421\n",
       "          80cc       0.105263\n",
       "          Moto2™     0.526316\n",
       "Italian   125cc      0.355140\n",
       "          250cc      0.196262\n",
       "          350cc      0.149533\n",
       "          50cc       0.018692\n",
       "          80cc       0.037383\n",
       "          MotoE™     0.028037\n",
       "          MotoGP™    0.214953\n",
       "Japanese  125cc      0.170543\n",
       "          250cc      0.255814\n",
       "          350cc      0.100775\n",
       "          50cc       0.054264\n",
       "          Moto2™     0.007752\n",
       "          Moto3™     0.038760\n",
       "          MotoGP™    0.372093\n",
       "Other     125cc      0.103448\n",
       "          250cc      0.241379\n",
       "          350cc      0.172414\n",
       "          50cc       0.206897\n",
       "          Moto2™     0.034483\n",
       "          Moto3™     0.172414\n",
       "          MotoGP™    0.068966\n",
       "dtype: float64"
      ]
     },
     "execution_count": 17,
     "metadata": {},
     "output_type": "execute_result"
    }
   ],
   "source": [
    "df_by_nation_pct=df_by_nations/n_wins_by_nation\n",
    "df_by_nation_pct"
   ]
  },
  {
   "cell_type": "code",
   "execution_count": 18,
   "id": "90209280",
   "metadata": {},
   "outputs": [
    {
     "data": {
      "text/plain": [
       "<AxesSubplot:title={'center':'Distribution of Championships for each nation'}, xlabel='Nation', ylabel='Number of Championship won'>"
      ]
     },
     "execution_count": 18,
     "metadata": {},
     "output_type": "execute_result"
    },
    {
     "data": {
      "image/png": "[encoded data removed]",
      "text/plain": [
       "<Figure size 1080x576 with 1 Axes>"
      ]
     },
     "metadata": {
      "needs_background": "light"
     },
     "output_type": "display_data"
    }
   ],
   "source": [
    "df_by_nation_pct.unstack().plot(kind=\"bar\",figsize=(15,8),\n",
    "                                xlabel=\"Nation\",ylabel=\"Number of Championship won\",\n",
    "                                title=\"Distribution of Championships for each nation\",\n",
    "                                rot=1)"
   ]
  },
  {
   "cell_type": "raw",
   "id": "fbb89cbf",
   "metadata": {},
   "source": [
    "\n",
    "\n",
    "Most of italy's wins come from 125cc, which helps to consolidate the previous intution that italian manufacturers were very successful in this category. MotoGP is the second category with the most wins. It's interesting to see that most of italy's wins come from the 125cc, 250cc, 350cc categories (~ 70%), which suggests that they were more successful during the 2-stroke era than the 4-stroke era. Although italian constructors have won more in 2-stroke categories than 4-stroke ones, they have won all editions of MotoE. The future of EV racing looks promising for italians.\n",
    "\n",
    "When it comes to Japan, most of their wins come from the MotoGP category, with 250cc beign second. This again confirms the previous intuition that japanese manufacturers have dominated this category.\n",
    "\n",
    "Germany's wins are concentrated in the 50cc and Moto2 category.\n"
   ]
  },
  {
   "cell_type": "raw",
   "id": "3fe277e1",
   "metadata": {},
   "source": [
    "a closer look at italys wins are distributed"
   ]
  },
  {
   "cell_type": "code",
   "execution_count": 19,
   "id": "10afb2e0",
   "metadata": {},
   "outputs": [
    {
     "name": "stdout",
     "output_type": "stream",
     "text": [
      "Category % of total wins\n",
      "125cc 36.0\n",
      "250cc 20.0\n",
      "350cc 15.0\n",
      "50cc 2.0\n",
      "80cc 4.0\n",
      "MotoE™ 3.0\n",
      "MotoGP™ 21.0\n"
     ]
    }
   ],
   "source": [
    "italian_wins=df_by_nations[3:10]\n",
    "totalWins=sum(italian_wins)\n",
    "\n",
    "print(\"Category\",\"% of total wins\")\n",
    "for key ,val in italian_wins.iteritems():\n",
    "    print(key[1],round(val/totalWins,2)*100)"
   ]
  },
  {
   "cell_type": "code",
   "execution_count": 20,
   "id": "68fe2351",
   "metadata": {},
   "outputs": [
    {
     "data": {
      "text/plain": [
       "<AxesSubplot:title={'center':'Distribution of wins of italian manufacturers'}, ylabel=' '>"
      ]
     },
     "execution_count": 20,
     "metadata": {},
     "output_type": "execute_result"
    },
    {
     "data": {
      "image/png": "[encoded data removed]",
      "text/plain": [
       "<Figure size 720x360 with 1 Axes>"
      ]
     },
     "metadata": {},
     "output_type": "display_data"
    }
   ],
   "source": [
    "labels = [\"125cc\", \"250cc\", \"350cc\", \"50cc\", \"80cc\", \"MotoE\", \"MotoGP\"]\n",
    "italian_wins.plot(kind=\"pie\",figsize=(10,5),ylabel=\" \",labels=labels, title=\"Distribution of wins of italian manufacturers\")"
   ]
  }
 ],
 "metadata": {
  "kernelspec": {
   "display_name": "Python 3 (ipykernel)",
   "language": "python",
   "name": "python3"
  },
  "language_info": {
   "codemirror_mode": {
    "name": "ipython",
    "version": 3
   },
   "file_extension": ".py",
   "mimetype": "text/x-python",
   "name": "python",
   "nbconvert_exporter": "python",
   "pygments_lexer": "ipython3",
   "version": "3.9.12"
  }
 },
 "nbformat": 4,
 "nbformat_minor": 5
}
